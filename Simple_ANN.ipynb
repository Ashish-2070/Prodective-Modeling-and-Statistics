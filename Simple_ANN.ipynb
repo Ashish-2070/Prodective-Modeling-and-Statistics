{
  "nbformat": 4,
  "nbformat_minor": 0,
  "metadata": {
    "colab": {
      "name": "Simple ANN",
      "provenance": [],
      "authorship_tag": "ABX9TyOCPqNllqq6bWJW7065RPMi",
      "include_colab_link": true
    },
    "kernelspec": {
      "name": "python3",
      "display_name": "Python 3"
    }
  },
  "cells": [
    {
      "cell_type": "markdown",
      "metadata": {
        "id": "view-in-github",
        "colab_type": "text"
      },
      "source": [
        "<a href=\"https://colab.research.google.com/github/Ashish-2070/Prodective-Modeling-and-Statistics/blob/master/Simple_ANN.ipynb\" target=\"_parent\"><img src=\"https://colab.research.google.com/assets/colab-badge.svg\" alt=\"Open In Colab\"/></a>"
      ]
    },
    {
      "cell_type": "code",
      "metadata": {
        "id": "VDO-H2CgK8nX",
        "colab_type": "code",
        "colab": {
          "base_uri": "https://localhost:8080/",
          "height": 71
        },
        "outputId": "e139f4c0-0c4a-4936-8e58-54fefe183908"
      },
      "source": [
        "import pandas as pd\n",
        "import numpy as np\n",
        "import matplotlib.pyplot as plt\n",
        "import seaborn as sns\n",
        "%matplotlib inline\n"
      ],
      "execution_count": 1,
      "outputs": [
        {
          "output_type": "stream",
          "text": [
            "/usr/local/lib/python3.6/dist-packages/statsmodels/tools/_testing.py:19: FutureWarning: pandas.util.testing is deprecated. Use the functions in the public API at pandas.testing instead.\n",
            "  import pandas.util.testing as tm\n"
          ],
          "name": "stderr"
        }
      ]
    },
    {
      "cell_type": "code",
      "metadata": {
        "id": "75IeW3jdLSky",
        "colab_type": "code",
        "colab": {
          "resources": {
            "http://localhost:8080/nbextensions/google.colab/files.js": {
              "data": "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",
              "ok": true,
              "headers": [
                [
                  "content-type",
                  "application/javascript"
                ]
              ],
              "status": 200,
              "status_text": ""
            }
          },
          "base_uri": "https://localhost:8080/",
          "height": 72
        },
        "outputId": "aa4ced6b-d953-4a6b-ce62-d3a39e7e4a0f"
      },
      "source": [
        "from google.colab import files\n",
        "uploaded = files.upload()"
      ],
      "execution_count": 2,
      "outputs": [
        {
          "output_type": "display_data",
          "data": {
            "text/html": [
              "\n",
              "     <input type=\"file\" id=\"files-a3ec73b7-4d64-4a08-ac91-4f4fc43a9046\" name=\"files[]\" multiple disabled\n",
              "        style=\"border:none\" />\n",
              "     <output id=\"result-a3ec73b7-4d64-4a08-ac91-4f4fc43a9046\">\n",
              "      Upload widget is only available when the cell has been executed in the\n",
              "      current browser session. Please rerun this cell to enable.\n",
              "      </output>\n",
              "      <script src=\"/nbextensions/google.colab/files.js\"></script> "
            ],
            "text/plain": [
              "<IPython.core.display.HTML object>"
            ]
          },
          "metadata": {
            "tags": []
          }
        },
        {
          "output_type": "stream",
          "text": [
            "Saving housepricedata.csv to housepricedata.csv\n"
          ],
          "name": "stdout"
        }
      ]
    },
    {
      "cell_type": "code",
      "metadata": {
        "id": "3QXLY9FULVN7",
        "colab_type": "code",
        "colab": {}
      },
      "source": [
        "import io\n",
        "data = pd.read_csv(io.StringIO(uploaded['housepricedata.csv'].decode('utf-8')))"
      ],
      "execution_count": 3,
      "outputs": []
    },
    {
      "cell_type": "code",
      "metadata": {
        "id": "pZVK_Wh0Le-8",
        "colab_type": "code",
        "colab": {
          "base_uri": "https://localhost:8080/",
          "height": 204
        },
        "outputId": "a7d22aee-4fe7-4b70-8189-e63d5d45a7f1"
      },
      "source": [
        "data.head()"
      ],
      "execution_count": 4,
      "outputs": [
        {
          "output_type": "execute_result",
          "data": {
            "text/html": [
              "<div>\n",
              "<style scoped>\n",
              "    .dataframe tbody tr th:only-of-type {\n",
              "        vertical-align: middle;\n",
              "    }\n",
              "\n",
              "    .dataframe tbody tr th {\n",
              "        vertical-align: top;\n",
              "    }\n",
              "\n",
              "    .dataframe thead th {\n",
              "        text-align: right;\n",
              "    }\n",
              "</style>\n",
              "<table border=\"1\" class=\"dataframe\">\n",
              "  <thead>\n",
              "    <tr style=\"text-align: right;\">\n",
              "      <th></th>\n",
              "      <th>LotArea</th>\n",
              "      <th>OverallQual</th>\n",
              "      <th>OverallCond</th>\n",
              "      <th>TotalBsmtSF</th>\n",
              "      <th>FullBath</th>\n",
              "      <th>HalfBath</th>\n",
              "      <th>BedroomAbvGr</th>\n",
              "      <th>TotRmsAbvGrd</th>\n",
              "      <th>Fireplaces</th>\n",
              "      <th>GarageArea</th>\n",
              "      <th>AboveMedianPrice</th>\n",
              "    </tr>\n",
              "  </thead>\n",
              "  <tbody>\n",
              "    <tr>\n",
              "      <th>0</th>\n",
              "      <td>8450</td>\n",
              "      <td>7</td>\n",
              "      <td>5</td>\n",
              "      <td>856</td>\n",
              "      <td>2</td>\n",
              "      <td>1</td>\n",
              "      <td>3</td>\n",
              "      <td>8</td>\n",
              "      <td>0</td>\n",
              "      <td>548</td>\n",
              "      <td>1</td>\n",
              "    </tr>\n",
              "    <tr>\n",
              "      <th>1</th>\n",
              "      <td>9600</td>\n",
              "      <td>6</td>\n",
              "      <td>8</td>\n",
              "      <td>1262</td>\n",
              "      <td>2</td>\n",
              "      <td>0</td>\n",
              "      <td>3</td>\n",
              "      <td>6</td>\n",
              "      <td>1</td>\n",
              "      <td>460</td>\n",
              "      <td>1</td>\n",
              "    </tr>\n",
              "    <tr>\n",
              "      <th>2</th>\n",
              "      <td>11250</td>\n",
              "      <td>7</td>\n",
              "      <td>5</td>\n",
              "      <td>920</td>\n",
              "      <td>2</td>\n",
              "      <td>1</td>\n",
              "      <td>3</td>\n",
              "      <td>6</td>\n",
              "      <td>1</td>\n",
              "      <td>608</td>\n",
              "      <td>1</td>\n",
              "    </tr>\n",
              "    <tr>\n",
              "      <th>3</th>\n",
              "      <td>9550</td>\n",
              "      <td>7</td>\n",
              "      <td>5</td>\n",
              "      <td>756</td>\n",
              "      <td>1</td>\n",
              "      <td>0</td>\n",
              "      <td>3</td>\n",
              "      <td>7</td>\n",
              "      <td>1</td>\n",
              "      <td>642</td>\n",
              "      <td>0</td>\n",
              "    </tr>\n",
              "    <tr>\n",
              "      <th>4</th>\n",
              "      <td>14260</td>\n",
              "      <td>8</td>\n",
              "      <td>5</td>\n",
              "      <td>1145</td>\n",
              "      <td>2</td>\n",
              "      <td>1</td>\n",
              "      <td>4</td>\n",
              "      <td>9</td>\n",
              "      <td>1</td>\n",
              "      <td>836</td>\n",
              "      <td>1</td>\n",
              "    </tr>\n",
              "  </tbody>\n",
              "</table>\n",
              "</div>"
            ],
            "text/plain": [
              "   LotArea  OverallQual  OverallCond  ...  Fireplaces  GarageArea  AboveMedianPrice\n",
              "0     8450            7            5  ...           0         548                 1\n",
              "1     9600            6            8  ...           1         460                 1\n",
              "2    11250            7            5  ...           1         608                 1\n",
              "3     9550            7            5  ...           1         642                 0\n",
              "4    14260            8            5  ...           1         836                 1\n",
              "\n",
              "[5 rows x 11 columns]"
            ]
          },
          "metadata": {
            "tags": []
          },
          "execution_count": 4
        }
      ]
    },
    {
      "cell_type": "code",
      "metadata": {
        "id": "xoQ-YjISLiFr",
        "colab_type": "code",
        "colab": {
          "base_uri": "https://localhost:8080/",
          "height": 204
        },
        "outputId": "34125edd-f615-477d-fb93-72971e653942"
      },
      "source": [
        "data.tail()"
      ],
      "execution_count": 5,
      "outputs": [
        {
          "output_type": "execute_result",
          "data": {
            "text/html": [
              "<div>\n",
              "<style scoped>\n",
              "    .dataframe tbody tr th:only-of-type {\n",
              "        vertical-align: middle;\n",
              "    }\n",
              "\n",
              "    .dataframe tbody tr th {\n",
              "        vertical-align: top;\n",
              "    }\n",
              "\n",
              "    .dataframe thead th {\n",
              "        text-align: right;\n",
              "    }\n",
              "</style>\n",
              "<table border=\"1\" class=\"dataframe\">\n",
              "  <thead>\n",
              "    <tr style=\"text-align: right;\">\n",
              "      <th></th>\n",
              "      <th>LotArea</th>\n",
              "      <th>OverallQual</th>\n",
              "      <th>OverallCond</th>\n",
              "      <th>TotalBsmtSF</th>\n",
              "      <th>FullBath</th>\n",
              "      <th>HalfBath</th>\n",
              "      <th>BedroomAbvGr</th>\n",
              "      <th>TotRmsAbvGrd</th>\n",
              "      <th>Fireplaces</th>\n",
              "      <th>GarageArea</th>\n",
              "      <th>AboveMedianPrice</th>\n",
              "    </tr>\n",
              "  </thead>\n",
              "  <tbody>\n",
              "    <tr>\n",
              "      <th>1455</th>\n",
              "      <td>7917</td>\n",
              "      <td>6</td>\n",
              "      <td>5</td>\n",
              "      <td>953</td>\n",
              "      <td>2</td>\n",
              "      <td>1</td>\n",
              "      <td>3</td>\n",
              "      <td>7</td>\n",
              "      <td>1</td>\n",
              "      <td>460</td>\n",
              "      <td>1</td>\n",
              "    </tr>\n",
              "    <tr>\n",
              "      <th>1456</th>\n",
              "      <td>13175</td>\n",
              "      <td>6</td>\n",
              "      <td>6</td>\n",
              "      <td>1542</td>\n",
              "      <td>2</td>\n",
              "      <td>0</td>\n",
              "      <td>3</td>\n",
              "      <td>7</td>\n",
              "      <td>2</td>\n",
              "      <td>500</td>\n",
              "      <td>1</td>\n",
              "    </tr>\n",
              "    <tr>\n",
              "      <th>1457</th>\n",
              "      <td>9042</td>\n",
              "      <td>7</td>\n",
              "      <td>9</td>\n",
              "      <td>1152</td>\n",
              "      <td>2</td>\n",
              "      <td>0</td>\n",
              "      <td>4</td>\n",
              "      <td>9</td>\n",
              "      <td>2</td>\n",
              "      <td>252</td>\n",
              "      <td>1</td>\n",
              "    </tr>\n",
              "    <tr>\n",
              "      <th>1458</th>\n",
              "      <td>9717</td>\n",
              "      <td>5</td>\n",
              "      <td>6</td>\n",
              "      <td>1078</td>\n",
              "      <td>1</td>\n",
              "      <td>0</td>\n",
              "      <td>2</td>\n",
              "      <td>5</td>\n",
              "      <td>0</td>\n",
              "      <td>240</td>\n",
              "      <td>0</td>\n",
              "    </tr>\n",
              "    <tr>\n",
              "      <th>1459</th>\n",
              "      <td>9937</td>\n",
              "      <td>5</td>\n",
              "      <td>6</td>\n",
              "      <td>1256</td>\n",
              "      <td>1</td>\n",
              "      <td>1</td>\n",
              "      <td>3</td>\n",
              "      <td>6</td>\n",
              "      <td>0</td>\n",
              "      <td>276</td>\n",
              "      <td>0</td>\n",
              "    </tr>\n",
              "  </tbody>\n",
              "</table>\n",
              "</div>"
            ],
            "text/plain": [
              "      LotArea  OverallQual  ...  GarageArea  AboveMedianPrice\n",
              "1455     7917            6  ...         460                 1\n",
              "1456    13175            6  ...         500                 1\n",
              "1457     9042            7  ...         252                 1\n",
              "1458     9717            5  ...         240                 0\n",
              "1459     9937            5  ...         276                 0\n",
              "\n",
              "[5 rows x 11 columns]"
            ]
          },
          "metadata": {
            "tags": []
          },
          "execution_count": 5
        }
      ]
    },
    {
      "cell_type": "code",
      "metadata": {
        "id": "_YbVaSigLkfZ",
        "colab_type": "code",
        "colab": {
          "base_uri": "https://localhost:8080/",
          "height": 34
        },
        "outputId": "cee5339c-d1f8-4441-eba9-ff86d21ce60c"
      },
      "source": [
        "data.shape"
      ],
      "execution_count": 6,
      "outputs": [
        {
          "output_type": "execute_result",
          "data": {
            "text/plain": [
              "(1460, 11)"
            ]
          },
          "metadata": {
            "tags": []
          },
          "execution_count": 6
        }
      ]
    },
    {
      "cell_type": "code",
      "metadata": {
        "id": "G4Wvy86wLlz2",
        "colab_type": "code",
        "colab": {
          "base_uri": "https://localhost:8080/",
          "height": 297
        },
        "outputId": "0c2da00b-4736-474e-8c10-57bb682ae414"
      },
      "source": [
        "data.describe()"
      ],
      "execution_count": 7,
      "outputs": [
        {
          "output_type": "execute_result",
          "data": {
            "text/html": [
              "<div>\n",
              "<style scoped>\n",
              "    .dataframe tbody tr th:only-of-type {\n",
              "        vertical-align: middle;\n",
              "    }\n",
              "\n",
              "    .dataframe tbody tr th {\n",
              "        vertical-align: top;\n",
              "    }\n",
              "\n",
              "    .dataframe thead th {\n",
              "        text-align: right;\n",
              "    }\n",
              "</style>\n",
              "<table border=\"1\" class=\"dataframe\">\n",
              "  <thead>\n",
              "    <tr style=\"text-align: right;\">\n",
              "      <th></th>\n",
              "      <th>LotArea</th>\n",
              "      <th>OverallQual</th>\n",
              "      <th>OverallCond</th>\n",
              "      <th>TotalBsmtSF</th>\n",
              "      <th>FullBath</th>\n",
              "      <th>HalfBath</th>\n",
              "      <th>BedroomAbvGr</th>\n",
              "      <th>TotRmsAbvGrd</th>\n",
              "      <th>Fireplaces</th>\n",
              "      <th>GarageArea</th>\n",
              "      <th>AboveMedianPrice</th>\n",
              "    </tr>\n",
              "  </thead>\n",
              "  <tbody>\n",
              "    <tr>\n",
              "      <th>count</th>\n",
              "      <td>1460.000000</td>\n",
              "      <td>1460.000000</td>\n",
              "      <td>1460.000000</td>\n",
              "      <td>1460.000000</td>\n",
              "      <td>1460.000000</td>\n",
              "      <td>1460.000000</td>\n",
              "      <td>1460.000000</td>\n",
              "      <td>1460.000000</td>\n",
              "      <td>1460.000000</td>\n",
              "      <td>1460.000000</td>\n",
              "      <td>1460.000000</td>\n",
              "    </tr>\n",
              "    <tr>\n",
              "      <th>mean</th>\n",
              "      <td>10516.828082</td>\n",
              "      <td>6.099315</td>\n",
              "      <td>5.575342</td>\n",
              "      <td>1057.429452</td>\n",
              "      <td>1.565068</td>\n",
              "      <td>0.382877</td>\n",
              "      <td>2.866438</td>\n",
              "      <td>6.517808</td>\n",
              "      <td>0.613014</td>\n",
              "      <td>472.980137</td>\n",
              "      <td>0.498630</td>\n",
              "    </tr>\n",
              "    <tr>\n",
              "      <th>std</th>\n",
              "      <td>9981.264932</td>\n",
              "      <td>1.382997</td>\n",
              "      <td>1.112799</td>\n",
              "      <td>438.705324</td>\n",
              "      <td>0.550916</td>\n",
              "      <td>0.502885</td>\n",
              "      <td>0.815778</td>\n",
              "      <td>1.625393</td>\n",
              "      <td>0.644666</td>\n",
              "      <td>213.804841</td>\n",
              "      <td>0.500169</td>\n",
              "    </tr>\n",
              "    <tr>\n",
              "      <th>min</th>\n",
              "      <td>1300.000000</td>\n",
              "      <td>1.000000</td>\n",
              "      <td>1.000000</td>\n",
              "      <td>0.000000</td>\n",
              "      <td>0.000000</td>\n",
              "      <td>0.000000</td>\n",
              "      <td>0.000000</td>\n",
              "      <td>2.000000</td>\n",
              "      <td>0.000000</td>\n",
              "      <td>0.000000</td>\n",
              "      <td>0.000000</td>\n",
              "    </tr>\n",
              "    <tr>\n",
              "      <th>25%</th>\n",
              "      <td>7553.500000</td>\n",
              "      <td>5.000000</td>\n",
              "      <td>5.000000</td>\n",
              "      <td>795.750000</td>\n",
              "      <td>1.000000</td>\n",
              "      <td>0.000000</td>\n",
              "      <td>2.000000</td>\n",
              "      <td>5.000000</td>\n",
              "      <td>0.000000</td>\n",
              "      <td>334.500000</td>\n",
              "      <td>0.000000</td>\n",
              "    </tr>\n",
              "    <tr>\n",
              "      <th>50%</th>\n",
              "      <td>9478.500000</td>\n",
              "      <td>6.000000</td>\n",
              "      <td>5.000000</td>\n",
              "      <td>991.500000</td>\n",
              "      <td>2.000000</td>\n",
              "      <td>0.000000</td>\n",
              "      <td>3.000000</td>\n",
              "      <td>6.000000</td>\n",
              "      <td>1.000000</td>\n",
              "      <td>480.000000</td>\n",
              "      <td>0.000000</td>\n",
              "    </tr>\n",
              "    <tr>\n",
              "      <th>75%</th>\n",
              "      <td>11601.500000</td>\n",
              "      <td>7.000000</td>\n",
              "      <td>6.000000</td>\n",
              "      <td>1298.250000</td>\n",
              "      <td>2.000000</td>\n",
              "      <td>1.000000</td>\n",
              "      <td>3.000000</td>\n",
              "      <td>7.000000</td>\n",
              "      <td>1.000000</td>\n",
              "      <td>576.000000</td>\n",
              "      <td>1.000000</td>\n",
              "    </tr>\n",
              "    <tr>\n",
              "      <th>max</th>\n",
              "      <td>215245.000000</td>\n",
              "      <td>10.000000</td>\n",
              "      <td>9.000000</td>\n",
              "      <td>6110.000000</td>\n",
              "      <td>3.000000</td>\n",
              "      <td>2.000000</td>\n",
              "      <td>8.000000</td>\n",
              "      <td>14.000000</td>\n",
              "      <td>3.000000</td>\n",
              "      <td>1418.000000</td>\n",
              "      <td>1.000000</td>\n",
              "    </tr>\n",
              "  </tbody>\n",
              "</table>\n",
              "</div>"
            ],
            "text/plain": [
              "             LotArea  OverallQual  ...   GarageArea  AboveMedianPrice\n",
              "count    1460.000000  1460.000000  ...  1460.000000       1460.000000\n",
              "mean    10516.828082     6.099315  ...   472.980137          0.498630\n",
              "std      9981.264932     1.382997  ...   213.804841          0.500169\n",
              "min      1300.000000     1.000000  ...     0.000000          0.000000\n",
              "25%      7553.500000     5.000000  ...   334.500000          0.000000\n",
              "50%      9478.500000     6.000000  ...   480.000000          0.000000\n",
              "75%     11601.500000     7.000000  ...   576.000000          1.000000\n",
              "max    215245.000000    10.000000  ...  1418.000000          1.000000\n",
              "\n",
              "[8 rows x 11 columns]"
            ]
          },
          "metadata": {
            "tags": []
          },
          "execution_count": 7
        }
      ]
    },
    {
      "cell_type": "code",
      "metadata": {
        "id": "MTLuGG-kLoN1",
        "colab_type": "code",
        "colab": {
          "base_uri": "https://localhost:8080/",
          "height": 221
        },
        "outputId": "4ff25b89-303a-49bb-d3b8-1113db39b26d"
      },
      "source": [
        "data.isnull().sum()"
      ],
      "execution_count": 8,
      "outputs": [
        {
          "output_type": "execute_result",
          "data": {
            "text/plain": [
              "LotArea             0\n",
              "OverallQual         0\n",
              "OverallCond         0\n",
              "TotalBsmtSF         0\n",
              "FullBath            0\n",
              "HalfBath            0\n",
              "BedroomAbvGr        0\n",
              "TotRmsAbvGrd        0\n",
              "Fireplaces          0\n",
              "GarageArea          0\n",
              "AboveMedianPrice    0\n",
              "dtype: int64"
            ]
          },
          "metadata": {
            "tags": []
          },
          "execution_count": 8
        }
      ]
    },
    {
      "cell_type": "code",
      "metadata": {
        "id": "eFNxQXH7Lu5z",
        "colab_type": "code",
        "colab": {}
      },
      "source": [
        "## There is no Missing Values in the data set"
      ],
      "execution_count": 9,
      "outputs": []
    },
    {
      "cell_type": "code",
      "metadata": {
        "id": "hlToSqwhL04M",
        "colab_type": "code",
        "colab": {}
      },
      "source": [
        "### In last column, we have the feature that we would like to predict which is the house price above the median or not? (1 for yes and 0 for no)"
      ],
      "execution_count": 10,
      "outputs": []
    },
    {
      "cell_type": "code",
      "metadata": {
        "id": "hvr3yvQ9MTg4",
        "colab_type": "code",
        "colab": {}
      },
      "source": [
        "## We now split our dataset into input features (X) and the feature we wish to predict (Y). To do that split, we simply assign the first 10 columns of our array to a variable called X and the last column of our array to a variable called Y."
      ],
      "execution_count": 11,
      "outputs": []
    },
    {
      "cell_type": "code",
      "metadata": {
        "id": "QVobCujPMZkg",
        "colab_type": "code",
        "colab": {}
      },
      "source": [
        "dataset = data.values"
      ],
      "execution_count": 15,
      "outputs": []
    },
    {
      "cell_type": "code",
      "metadata": {
        "id": "6jc7CZggMfr8",
        "colab_type": "code",
        "colab": {}
      },
      "source": [
        "X = dataset[:,0:10]\n",
        "Y = dataset[:,10]\n"
      ],
      "execution_count": 16,
      "outputs": []
    },
    {
      "cell_type": "code",
      "metadata": {
        "id": "4i7zJeznNLVM",
        "colab_type": "code",
        "colab": {}
      },
      "source": [
        "from sklearn import preprocessing"
      ],
      "execution_count": 21,
      "outputs": []
    },
    {
      "cell_type": "code",
      "metadata": {
        "id": "bgH6N6T2O5ym",
        "colab_type": "code",
        "colab": {}
      },
      "source": [
        "min_max_scaler = preprocessing.MinMaxScaler()\n",
        "X_scale = min_max_scaler.fit_transform(X)"
      ],
      "execution_count": 35,
      "outputs": []
    },
    {
      "cell_type": "code",
      "metadata": {
        "id": "IQ7RsCXSNaZy",
        "colab_type": "code",
        "colab": {}
      },
      "source": [
        "from sklearn.model_selection import train_test_split"
      ],
      "execution_count": 22,
      "outputs": []
    },
    {
      "cell_type": "code",
      "metadata": {
        "id": "NDQDI1qXNn-P",
        "colab_type": "code",
        "colab": {}
      },
      "source": [
        "X_train, X_val_and_test, Y_train, Y_val_and_test = train_test_split(X_scale, Y, test_size=0.3)"
      ],
      "execution_count": 36,
      "outputs": []
    },
    {
      "cell_type": "code",
      "metadata": {
        "id": "DQKlZ3ifNvF4",
        "colab_type": "code",
        "colab": {}
      },
      "source": [
        "X_val, X_test, Y_val, Y_test = train_test_split(X_val_and_test, Y_val_and_test, test_size=0.5)"
      ],
      "execution_count": 37,
      "outputs": []
    },
    {
      "cell_type": "code",
      "metadata": {
        "id": "8W54ke8QN1vN",
        "colab_type": "code",
        "colab": {
          "base_uri": "https://localhost:8080/",
          "height": 34
        },
        "outputId": "9535e5e2-587e-4c66-f8ed-5aa326918e2b"
      },
      "source": [
        "print(X_train.shape, X_val.shape, X_test.shape, Y_train.shape, Y_val.shape, Y_test.shape)"
      ],
      "execution_count": 38,
      "outputs": [
        {
          "output_type": "stream",
          "text": [
            "(1022, 10) (219, 10) (219, 10) (1022,) (219,) (219,)\n"
          ],
          "name": "stdout"
        }
      ]
    },
    {
      "cell_type": "code",
      "metadata": {
        "id": "n2baHY_sN5vB",
        "colab_type": "code",
        "colab": {}
      },
      "source": [
        "## Building the Model"
      ],
      "execution_count": 26,
      "outputs": []
    },
    {
      "cell_type": "code",
      "metadata": {
        "id": "5wlm6qVQOC6Z",
        "colab_type": "code",
        "colab": {}
      },
      "source": [
        "from keras.models import Sequential\n",
        "from keras.layers import Dense"
      ],
      "execution_count": 39,
      "outputs": []
    },
    {
      "cell_type": "code",
      "metadata": {
        "id": "oB1R7RfqOGX6",
        "colab_type": "code",
        "colab": {}
      },
      "source": [
        "## We will be using the Sequential model, which means that we merely need to describe the layers above in sequence. Our neural network has three layers:\n",
        "\n",
        "#Hidden layer 1: 30 neurons, ReLU activation\n",
        "#Hidden layer 2: 30 neurons, ReLU activation\n",
        "#Output Layer: 1 neuron, Sigmoid activation"
      ],
      "execution_count": 29,
      "outputs": []
    },
    {
      "cell_type": "code",
      "metadata": {
        "id": "Ru3BOU5mOLE2",
        "colab_type": "code",
        "colab": {}
      },
      "source": [
        "model = Sequential([\n",
        "    Dense(32, activation='relu', input_shape=(10,)),\n",
        "    Dense(32, activation='relu'),\n",
        "    Dense(1, activation='sigmoid'),\n",
        "])"
      ],
      "execution_count": 40,
      "outputs": []
    },
    {
      "cell_type": "code",
      "metadata": {
        "id": "-V8RPAcwOR9D",
        "colab_type": "code",
        "colab": {}
      },
      "source": [
        "## Now that we've got our architecture specified, we need to find the best numbers for it. Before we start our training, we have to configure the model by\n",
        "\n",
        "#Telling it what algorithm you want to use to do the optimization (we'll use stochastic gradient descent)\n",
        "#Telling it what loss function to use (for binary classification, we will use binary cross entropy)\n",
        "#Telling it what other metrics you want to track apart from the loss function (we want to track accuracy as well)"
      ],
      "execution_count": 31,
      "outputs": []
    },
    {
      "cell_type": "code",
      "metadata": {
        "id": "d_EtbJ6kOdH1",
        "colab_type": "code",
        "colab": {}
      },
      "source": [
        "model.compile(optimizer='sgd',\n",
        "              loss='binary_crossentropy',\n",
        "              metrics=['accuracy'])"
      ],
      "execution_count": 41,
      "outputs": []
    },
    {
      "cell_type": "code",
      "metadata": {
        "id": "PcpoOIPBOf2m",
        "colab_type": "code",
        "colab": {
          "base_uri": "https://localhost:8080/",
          "height": 1000
        },
        "outputId": "8ac582d7-960c-4f08-d360-748bb99a90e8"
      },
      "source": [
        "history = model.fit(X_train, Y_train,\n",
        "          batch_size=32, epochs=100,\n",
        "          validation_data=(X_val, Y_val))"
      ],
      "execution_count": 42,
      "outputs": [
        {
          "output_type": "stream",
          "text": [
            "Train on 1022 samples, validate on 219 samples\n",
            "Epoch 1/100\n",
            "1022/1022 [==============================] - 0s 108us/step - loss: 0.6891 - accuracy: 0.5127 - val_loss: 0.6881 - val_accuracy: 0.4840\n",
            "Epoch 2/100\n",
            "1022/1022 [==============================] - 0s 39us/step - loss: 0.6850 - accuracy: 0.5254 - val_loss: 0.6836 - val_accuracy: 0.4932\n",
            "Epoch 3/100\n",
            "1022/1022 [==============================] - 0s 40us/step - loss: 0.6807 - accuracy: 0.5323 - val_loss: 0.6789 - val_accuracy: 0.5068\n",
            "Epoch 4/100\n",
            "1022/1022 [==============================] - 0s 39us/step - loss: 0.6759 - accuracy: 0.5431 - val_loss: 0.6732 - val_accuracy: 0.5342\n",
            "Epoch 5/100\n",
            "1022/1022 [==============================] - 0s 40us/step - loss: 0.6700 - accuracy: 0.6575 - val_loss: 0.6655 - val_accuracy: 0.6484\n",
            "Epoch 6/100\n",
            "1022/1022 [==============================] - 0s 40us/step - loss: 0.6636 - accuracy: 0.7280 - val_loss: 0.6585 - val_accuracy: 0.7489\n",
            "Epoch 7/100\n",
            "1022/1022 [==============================] - 0s 39us/step - loss: 0.6579 - accuracy: 0.7828 - val_loss: 0.6525 - val_accuracy: 0.7671\n",
            "Epoch 8/100\n",
            "1022/1022 [==============================] - 0s 41us/step - loss: 0.6527 - accuracy: 0.7730 - val_loss: 0.6466 - val_accuracy: 0.7808\n",
            "Epoch 9/100\n",
            "1022/1022 [==============================] - 0s 41us/step - loss: 0.6475 - accuracy: 0.7798 - val_loss: 0.6408 - val_accuracy: 0.7854\n",
            "Epoch 10/100\n",
            "1022/1022 [==============================] - 0s 38us/step - loss: 0.6422 - accuracy: 0.7847 - val_loss: 0.6352 - val_accuracy: 0.7900\n",
            "Epoch 11/100\n",
            "1022/1022 [==============================] - 0s 39us/step - loss: 0.6369 - accuracy: 0.7877 - val_loss: 0.6293 - val_accuracy: 0.7808\n",
            "Epoch 12/100\n",
            "1022/1022 [==============================] - 0s 39us/step - loss: 0.6315 - accuracy: 0.7926 - val_loss: 0.6230 - val_accuracy: 0.7900\n",
            "Epoch 13/100\n",
            "1022/1022 [==============================] - 0s 41us/step - loss: 0.6259 - accuracy: 0.7984 - val_loss: 0.6167 - val_accuracy: 0.7854\n",
            "Epoch 14/100\n",
            "1022/1022 [==============================] - 0s 39us/step - loss: 0.6200 - accuracy: 0.7935 - val_loss: 0.6097 - val_accuracy: 0.7991\n",
            "Epoch 15/100\n",
            "1022/1022 [==============================] - 0s 42us/step - loss: 0.6139 - accuracy: 0.8092 - val_loss: 0.6028 - val_accuracy: 0.8037\n",
            "Epoch 16/100\n",
            "1022/1022 [==============================] - 0s 41us/step - loss: 0.6074 - accuracy: 0.8112 - val_loss: 0.5954 - val_accuracy: 0.8128\n",
            "Epoch 17/100\n",
            "1022/1022 [==============================] - 0s 41us/step - loss: 0.6010 - accuracy: 0.8249 - val_loss: 0.5881 - val_accuracy: 0.8174\n",
            "Epoch 18/100\n",
            "1022/1022 [==============================] - 0s 40us/step - loss: 0.5941 - accuracy: 0.8249 - val_loss: 0.5801 - val_accuracy: 0.8174\n",
            "Epoch 19/100\n",
            "1022/1022 [==============================] - 0s 38us/step - loss: 0.5869 - accuracy: 0.8288 - val_loss: 0.5715 - val_accuracy: 0.8265\n",
            "Epoch 20/100\n",
            "1022/1022 [==============================] - 0s 38us/step - loss: 0.5795 - accuracy: 0.8356 - val_loss: 0.5630 - val_accuracy: 0.8356\n",
            "Epoch 21/100\n",
            "1022/1022 [==============================] - 0s 42us/step - loss: 0.5717 - accuracy: 0.8366 - val_loss: 0.5544 - val_accuracy: 0.8356\n",
            "Epoch 22/100\n",
            "1022/1022 [==============================] - 0s 40us/step - loss: 0.5635 - accuracy: 0.8356 - val_loss: 0.5454 - val_accuracy: 0.8447\n",
            "Epoch 23/100\n",
            "1022/1022 [==============================] - 0s 42us/step - loss: 0.5551 - accuracy: 0.8386 - val_loss: 0.5355 - val_accuracy: 0.8447\n",
            "Epoch 24/100\n",
            "1022/1022 [==============================] - 0s 43us/step - loss: 0.5463 - accuracy: 0.8425 - val_loss: 0.5252 - val_accuracy: 0.8630\n",
            "Epoch 25/100\n",
            "1022/1022 [==============================] - 0s 40us/step - loss: 0.5371 - accuracy: 0.8483 - val_loss: 0.5159 - val_accuracy: 0.8584\n",
            "Epoch 26/100\n",
            "1022/1022 [==============================] - 0s 41us/step - loss: 0.5275 - accuracy: 0.8444 - val_loss: 0.5054 - val_accuracy: 0.8584\n",
            "Epoch 27/100\n",
            "1022/1022 [==============================] - 0s 39us/step - loss: 0.5179 - accuracy: 0.8483 - val_loss: 0.4949 - val_accuracy: 0.8630\n",
            "Epoch 28/100\n",
            "1022/1022 [==============================] - 0s 41us/step - loss: 0.5079 - accuracy: 0.8454 - val_loss: 0.4826 - val_accuracy: 0.8721\n",
            "Epoch 29/100\n",
            "1022/1022 [==============================] - 0s 40us/step - loss: 0.4981 - accuracy: 0.8503 - val_loss: 0.4721 - val_accuracy: 0.8721\n",
            "Epoch 30/100\n",
            "1022/1022 [==============================] - 0s 40us/step - loss: 0.4880 - accuracy: 0.8513 - val_loss: 0.4610 - val_accuracy: 0.8721\n",
            "Epoch 31/100\n",
            "1022/1022 [==============================] - 0s 43us/step - loss: 0.4782 - accuracy: 0.8503 - val_loss: 0.4510 - val_accuracy: 0.8767\n",
            "Epoch 32/100\n",
            "1022/1022 [==============================] - 0s 39us/step - loss: 0.4687 - accuracy: 0.8523 - val_loss: 0.4418 - val_accuracy: 0.8721\n",
            "Epoch 33/100\n",
            "1022/1022 [==============================] - 0s 39us/step - loss: 0.4594 - accuracy: 0.8503 - val_loss: 0.4306 - val_accuracy: 0.8721\n",
            "Epoch 34/100\n",
            "1022/1022 [==============================] - 0s 39us/step - loss: 0.4502 - accuracy: 0.8532 - val_loss: 0.4220 - val_accuracy: 0.8721\n",
            "Epoch 35/100\n",
            "1022/1022 [==============================] - 0s 40us/step - loss: 0.4413 - accuracy: 0.8532 - val_loss: 0.4114 - val_accuracy: 0.8858\n",
            "Epoch 36/100\n",
            "1022/1022 [==============================] - 0s 40us/step - loss: 0.4330 - accuracy: 0.8581 - val_loss: 0.4039 - val_accuracy: 0.8813\n",
            "Epoch 37/100\n",
            "1022/1022 [==============================] - 0s 40us/step - loss: 0.4251 - accuracy: 0.8562 - val_loss: 0.3967 - val_accuracy: 0.8721\n",
            "Epoch 38/100\n",
            "1022/1022 [==============================] - 0s 41us/step - loss: 0.4175 - accuracy: 0.8532 - val_loss: 0.3859 - val_accuracy: 0.8858\n",
            "Epoch 39/100\n",
            "1022/1022 [==============================] - 0s 40us/step - loss: 0.4100 - accuracy: 0.8591 - val_loss: 0.3800 - val_accuracy: 0.8858\n",
            "Epoch 40/100\n",
            "1022/1022 [==============================] - 0s 39us/step - loss: 0.4035 - accuracy: 0.8562 - val_loss: 0.3718 - val_accuracy: 0.8858\n",
            "Epoch 41/100\n",
            "1022/1022 [==============================] - 0s 39us/step - loss: 0.3969 - accuracy: 0.8581 - val_loss: 0.3642 - val_accuracy: 0.8904\n",
            "Epoch 42/100\n",
            "1022/1022 [==============================] - 0s 39us/step - loss: 0.3909 - accuracy: 0.8611 - val_loss: 0.3569 - val_accuracy: 0.8950\n",
            "Epoch 43/100\n",
            "1022/1022 [==============================] - 0s 40us/step - loss: 0.3851 - accuracy: 0.8601 - val_loss: 0.3512 - val_accuracy: 0.8904\n",
            "Epoch 44/100\n",
            "1022/1022 [==============================] - 0s 41us/step - loss: 0.3798 - accuracy: 0.8601 - val_loss: 0.3458 - val_accuracy: 0.8904\n",
            "Epoch 45/100\n",
            "1022/1022 [==============================] - 0s 45us/step - loss: 0.3747 - accuracy: 0.8611 - val_loss: 0.3396 - val_accuracy: 0.8950\n",
            "Epoch 46/100\n",
            "1022/1022 [==============================] - 0s 41us/step - loss: 0.3701 - accuracy: 0.8659 - val_loss: 0.3375 - val_accuracy: 0.8858\n",
            "Epoch 47/100\n",
            "1022/1022 [==============================] - 0s 43us/step - loss: 0.3652 - accuracy: 0.8591 - val_loss: 0.3301 - val_accuracy: 0.8950\n",
            "Epoch 48/100\n",
            "1022/1022 [==============================] - 0s 39us/step - loss: 0.3618 - accuracy: 0.8650 - val_loss: 0.3270 - val_accuracy: 0.8904\n",
            "Epoch 49/100\n",
            "1022/1022 [==============================] - 0s 40us/step - loss: 0.3574 - accuracy: 0.8669 - val_loss: 0.3273 - val_accuracy: 0.8858\n",
            "Epoch 50/100\n",
            "1022/1022 [==============================] - 0s 40us/step - loss: 0.3539 - accuracy: 0.8659 - val_loss: 0.3194 - val_accuracy: 0.8950\n",
            "Epoch 51/100\n",
            "1022/1022 [==============================] - 0s 38us/step - loss: 0.3505 - accuracy: 0.8669 - val_loss: 0.3171 - val_accuracy: 0.8904\n",
            "Epoch 52/100\n",
            "1022/1022 [==============================] - 0s 39us/step - loss: 0.3472 - accuracy: 0.8630 - val_loss: 0.3130 - val_accuracy: 0.8950\n",
            "Epoch 53/100\n",
            "1022/1022 [==============================] - 0s 38us/step - loss: 0.3443 - accuracy: 0.8659 - val_loss: 0.3072 - val_accuracy: 0.8995\n",
            "Epoch 54/100\n",
            "1022/1022 [==============================] - 0s 41us/step - loss: 0.3413 - accuracy: 0.8689 - val_loss: 0.3035 - val_accuracy: 0.8995\n",
            "Epoch 55/100\n",
            "1022/1022 [==============================] - 0s 38us/step - loss: 0.3388 - accuracy: 0.8679 - val_loss: 0.3015 - val_accuracy: 0.8995\n",
            "Epoch 56/100\n",
            "1022/1022 [==============================] - 0s 40us/step - loss: 0.3364 - accuracy: 0.8708 - val_loss: 0.3002 - val_accuracy: 0.8950\n",
            "Epoch 57/100\n",
            "1022/1022 [==============================] - 0s 42us/step - loss: 0.3342 - accuracy: 0.8679 - val_loss: 0.3001 - val_accuracy: 0.8995\n",
            "Epoch 58/100\n",
            "1022/1022 [==============================] - 0s 43us/step - loss: 0.3320 - accuracy: 0.8689 - val_loss: 0.2961 - val_accuracy: 0.8950\n",
            "Epoch 59/100\n",
            "1022/1022 [==============================] - 0s 42us/step - loss: 0.3294 - accuracy: 0.8708 - val_loss: 0.2910 - val_accuracy: 0.8995\n",
            "Epoch 60/100\n",
            "1022/1022 [==============================] - 0s 40us/step - loss: 0.3275 - accuracy: 0.8689 - val_loss: 0.2894 - val_accuracy: 0.8995\n",
            "Epoch 61/100\n",
            "1022/1022 [==============================] - 0s 41us/step - loss: 0.3255 - accuracy: 0.8708 - val_loss: 0.2894 - val_accuracy: 0.8995\n",
            "Epoch 62/100\n",
            "1022/1022 [==============================] - 0s 39us/step - loss: 0.3240 - accuracy: 0.8689 - val_loss: 0.2886 - val_accuracy: 0.8995\n",
            "Epoch 63/100\n",
            "1022/1022 [==============================] - 0s 40us/step - loss: 0.3222 - accuracy: 0.8728 - val_loss: 0.2870 - val_accuracy: 0.8995\n",
            "Epoch 64/100\n",
            "1022/1022 [==============================] - 0s 41us/step - loss: 0.3204 - accuracy: 0.8738 - val_loss: 0.2790 - val_accuracy: 0.8995\n",
            "Epoch 65/100\n",
            "1022/1022 [==============================] - 0s 41us/step - loss: 0.3190 - accuracy: 0.8699 - val_loss: 0.2842 - val_accuracy: 0.8995\n",
            "Epoch 66/100\n",
            "1022/1022 [==============================] - 0s 41us/step - loss: 0.3176 - accuracy: 0.8738 - val_loss: 0.2820 - val_accuracy: 0.8995\n",
            "Epoch 67/100\n",
            "1022/1022 [==============================] - 0s 42us/step - loss: 0.3160 - accuracy: 0.8767 - val_loss: 0.2779 - val_accuracy: 0.8995\n",
            "Epoch 68/100\n",
            "1022/1022 [==============================] - 0s 43us/step - loss: 0.3142 - accuracy: 0.8728 - val_loss: 0.2727 - val_accuracy: 0.8995\n",
            "Epoch 69/100\n",
            "1022/1022 [==============================] - 0s 43us/step - loss: 0.3138 - accuracy: 0.8748 - val_loss: 0.2734 - val_accuracy: 0.8995\n",
            "Epoch 70/100\n",
            "1022/1022 [==============================] - 0s 42us/step - loss: 0.3125 - accuracy: 0.8748 - val_loss: 0.2756 - val_accuracy: 0.8995\n",
            "Epoch 71/100\n",
            "1022/1022 [==============================] - 0s 39us/step - loss: 0.3111 - accuracy: 0.8728 - val_loss: 0.2742 - val_accuracy: 0.8995\n",
            "Epoch 72/100\n",
            "1022/1022 [==============================] - 0s 39us/step - loss: 0.3099 - accuracy: 0.8718 - val_loss: 0.2693 - val_accuracy: 0.8995\n",
            "Epoch 73/100\n",
            "1022/1022 [==============================] - 0s 41us/step - loss: 0.3091 - accuracy: 0.8738 - val_loss: 0.2689 - val_accuracy: 0.8995\n",
            "Epoch 74/100\n",
            "1022/1022 [==============================] - 0s 41us/step - loss: 0.3079 - accuracy: 0.8757 - val_loss: 0.2697 - val_accuracy: 0.8995\n",
            "Epoch 75/100\n",
            "1022/1022 [==============================] - 0s 41us/step - loss: 0.3069 - accuracy: 0.8757 - val_loss: 0.2641 - val_accuracy: 0.8995\n",
            "Epoch 76/100\n",
            "1022/1022 [==============================] - 0s 40us/step - loss: 0.3059 - accuracy: 0.8728 - val_loss: 0.2695 - val_accuracy: 0.8995\n",
            "Epoch 77/100\n",
            "1022/1022 [==============================] - 0s 42us/step - loss: 0.3051 - accuracy: 0.8767 - val_loss: 0.2662 - val_accuracy: 0.8995\n",
            "Epoch 78/100\n",
            "1022/1022 [==============================] - 0s 41us/step - loss: 0.3048 - accuracy: 0.8738 - val_loss: 0.2677 - val_accuracy: 0.8995\n",
            "Epoch 79/100\n",
            "1022/1022 [==============================] - 0s 41us/step - loss: 0.3030 - accuracy: 0.8767 - val_loss: 0.2609 - val_accuracy: 0.8995\n",
            "Epoch 80/100\n",
            "1022/1022 [==============================] - 0s 44us/step - loss: 0.3021 - accuracy: 0.8748 - val_loss: 0.2601 - val_accuracy: 0.8995\n",
            "Epoch 81/100\n",
            "1022/1022 [==============================] - 0s 40us/step - loss: 0.3013 - accuracy: 0.8787 - val_loss: 0.2696 - val_accuracy: 0.8904\n",
            "Epoch 82/100\n",
            "1022/1022 [==============================] - 0s 40us/step - loss: 0.3007 - accuracy: 0.8738 - val_loss: 0.2673 - val_accuracy: 0.8995\n",
            "Epoch 83/100\n",
            "1022/1022 [==============================] - 0s 40us/step - loss: 0.3001 - accuracy: 0.8767 - val_loss: 0.2647 - val_accuracy: 0.8995\n",
            "Epoch 84/100\n",
            "1022/1022 [==============================] - 0s 40us/step - loss: 0.2983 - accuracy: 0.8767 - val_loss: 0.2555 - val_accuracy: 0.9041\n",
            "Epoch 85/100\n",
            "1022/1022 [==============================] - 0s 41us/step - loss: 0.2989 - accuracy: 0.8816 - val_loss: 0.2630 - val_accuracy: 0.8995\n",
            "Epoch 86/100\n",
            "1022/1022 [==============================] - 0s 41us/step - loss: 0.2975 - accuracy: 0.8787 - val_loss: 0.2667 - val_accuracy: 0.8858\n",
            "Epoch 87/100\n",
            "1022/1022 [==============================] - 0s 40us/step - loss: 0.2954 - accuracy: 0.8796 - val_loss: 0.2504 - val_accuracy: 0.9041\n",
            "Epoch 88/100\n",
            "1022/1022 [==============================] - 0s 41us/step - loss: 0.2957 - accuracy: 0.8796 - val_loss: 0.2611 - val_accuracy: 0.8995\n",
            "Epoch 89/100\n",
            "1022/1022 [==============================] - 0s 41us/step - loss: 0.2949 - accuracy: 0.8787 - val_loss: 0.2514 - val_accuracy: 0.9041\n",
            "Epoch 90/100\n",
            "1022/1022 [==============================] - 0s 40us/step - loss: 0.2952 - accuracy: 0.8806 - val_loss: 0.2551 - val_accuracy: 0.8995\n",
            "Epoch 91/100\n",
            "1022/1022 [==============================] - 0s 39us/step - loss: 0.2933 - accuracy: 0.8855 - val_loss: 0.2595 - val_accuracy: 0.8950\n",
            "Epoch 92/100\n",
            "1022/1022 [==============================] - 0s 49us/step - loss: 0.2924 - accuracy: 0.8826 - val_loss: 0.2535 - val_accuracy: 0.8995\n",
            "Epoch 93/100\n",
            "1022/1022 [==============================] - 0s 40us/step - loss: 0.2929 - accuracy: 0.8816 - val_loss: 0.2571 - val_accuracy: 0.8950\n",
            "Epoch 94/100\n",
            "1022/1022 [==============================] - 0s 40us/step - loss: 0.2917 - accuracy: 0.8796 - val_loss: 0.2534 - val_accuracy: 0.8995\n",
            "Epoch 95/100\n",
            "1022/1022 [==============================] - 0s 41us/step - loss: 0.2919 - accuracy: 0.8806 - val_loss: 0.2519 - val_accuracy: 0.8995\n",
            "Epoch 96/100\n",
            "1022/1022 [==============================] - 0s 41us/step - loss: 0.2909 - accuracy: 0.8845 - val_loss: 0.2486 - val_accuracy: 0.9041\n",
            "Epoch 97/100\n",
            "1022/1022 [==============================] - 0s 40us/step - loss: 0.2899 - accuracy: 0.8826 - val_loss: 0.2538 - val_accuracy: 0.8950\n",
            "Epoch 98/100\n",
            "1022/1022 [==============================] - 0s 39us/step - loss: 0.2891 - accuracy: 0.8836 - val_loss: 0.2445 - val_accuracy: 0.9087\n",
            "Epoch 99/100\n",
            "1022/1022 [==============================] - 0s 43us/step - loss: 0.2889 - accuracy: 0.8816 - val_loss: 0.2481 - val_accuracy: 0.9041\n",
            "Epoch 100/100\n",
            "1022/1022 [==============================] - 0s 39us/step - loss: 0.2879 - accuracy: 0.8816 - val_loss: 0.2501 - val_accuracy: 0.8995\n"
          ],
          "name": "stdout"
        }
      ]
    },
    {
      "cell_type": "code",
      "metadata": {
        "id": "jxG7iL9sOmOo",
        "colab_type": "code",
        "colab": {
          "base_uri": "https://localhost:8080/",
          "height": 51
        },
        "outputId": "6ca4d78b-1127-4975-a27f-71fb9fb17bf4"
      },
      "source": [
        "model.evaluate(X_test, Y_test)[1]"
      ],
      "execution_count": 43,
      "outputs": [
        {
          "output_type": "stream",
          "text": [
            "219/219 [==============================] - 0s 37us/step\n"
          ],
          "name": "stdout"
        },
        {
          "output_type": "execute_result",
          "data": {
            "text/plain": [
              "0.8904109597206116"
            ]
          },
          "metadata": {
            "tags": []
          },
          "execution_count": 43
        }
      ]
    },
    {
      "cell_type": "code",
      "metadata": {
        "id": "edyCY4b8OyHf",
        "colab_type": "code",
        "colab": {}
      },
      "source": [
        "## Visualizing Loss and Accuracy"
      ],
      "execution_count": 44,
      "outputs": []
    },
    {
      "cell_type": "code",
      "metadata": {
        "id": "ck4tToFxPWOS",
        "colab_type": "code",
        "colab": {
          "base_uri": "https://localhost:8080/",
          "height": 295
        },
        "outputId": "d316981d-7be0-4e5a-8c75-903468daa128"
      },
      "source": [
        "plt.plot(history.history['loss'])\n",
        "plt.plot(history.history['val_loss'])\n",
        "plt.title('Model loss')\n",
        "plt.ylabel('Loss')\n",
        "plt.xlabel('Epoch')\n",
        "plt.legend(['Train', 'Val'], loc='upper right')\n",
        "plt.show()"
      ],
      "execution_count": 46,
      "outputs": [
        {
          "output_type": "display_data",
          "data": {
            "image/png": "[encoded data removed]",
            "text/plain": [
              "<Figure size 432x288 with 1 Axes>"
            ]
          },
          "metadata": {
            "tags": [],
            "needs_background": "light"
          }
        }
      ]
    },
    {
      "cell_type": "code",
      "metadata": {
        "id": "VaGtfwO1PZ7j",
        "colab_type": "code",
        "colab": {
          "base_uri": "https://localhost:8080/",
          "height": 295
        },
        "outputId": "59bebc84-325b-4756-d696-027535a9525f"
      },
      "source": [
        "\n",
        "plt.plot(history.history['accuracy'])\n",
        "plt.plot(history.history['val_accuracy'])\n",
        "plt.title('Model accuracy')\n",
        "plt.ylabel('Accuracy')\n",
        "plt.xlabel('Epoch')\n",
        "plt.legend(['Train', 'Val'], loc='lower right')\n",
        "plt.show()"
      ],
      "execution_count": 49,
      "outputs": [
        {
          "output_type": "display_data",
          "data": {
            "image/png": "[encoded data removed]",
            "text/plain": [
              "<Figure size 432x288 with 1 Axes>"
            ]
          },
          "metadata": {
            "tags": [],
            "needs_background": "light"
          }
        }
      ]
    },
    {
      "cell_type": "code",
      "metadata": {
        "id": "ijmrbdeJPlL0",
        "colab_type": "code",
        "colab": {}
      },
      "source": [
        "## Adding Regularization to our Neural Network"
      ],
      "execution_count": 50,
      "outputs": []
    },
    {
      "cell_type": "code",
      "metadata": {
        "id": "3lRJIaxkP3VI",
        "colab_type": "code",
        "colab": {
          "base_uri": "https://localhost:8080/",
          "height": 1000
        },
        "outputId": "ea28d84d-4418-43ee-822c-b871baee8daf"
      },
      "source": [
        "model_2 = Sequential([\n",
        "    Dense(1000, activation='relu', input_shape=(10,)),\n",
        "    Dense(1000, activation='relu'),\n",
        "    Dense(1000, activation='relu'),\n",
        "    Dense(1000, activation='relu'),\n",
        "    Dense(1, activation='sigmoid'),\n",
        "])\n",
        "model_2.compile(optimizer='adam',\n",
        "              loss='binary_crossentropy',\n",
        "              metrics=['accuracy'])\n",
        "hist_2 = model_2.fit(X_train, Y_train,\n",
        "          batch_size=32, epochs=100,\n",
        "          validation_data=(X_val, Y_val))"
      ],
      "execution_count": 51,
      "outputs": [
        {
          "output_type": "stream",
          "text": [
            "Train on 1022 samples, validate on 219 samples\n",
            "Epoch 1/100\n",
            "1022/1022 [==============================] - 2s 2ms/step - loss: 0.4491 - accuracy: 0.8082 - val_loss: 0.3133 - val_accuracy: 0.8630\n",
            "Epoch 2/100\n",
            "1022/1022 [==============================] - 2s 1ms/step - loss: 0.3525 - accuracy: 0.8474 - val_loss: 0.3299 - val_accuracy: 0.8539\n",
            "Epoch 3/100\n",
            "1022/1022 [==============================] - 2s 1ms/step - loss: 0.3149 - accuracy: 0.8718 - val_loss: 0.2405 - val_accuracy: 0.9087\n",
            "Epoch 4/100\n",
            "1022/1022 [==============================] - 2s 1ms/step - loss: 0.2811 - accuracy: 0.8816 - val_loss: 0.1874 - val_accuracy: 0.9224\n",
            "Epoch 5/100\n",
            "1022/1022 [==============================] - 2s 1ms/step - loss: 0.3081 - accuracy: 0.8708 - val_loss: 0.3266 - val_accuracy: 0.8493\n",
            "Epoch 6/100\n",
            "1022/1022 [==============================] - 2s 2ms/step - loss: 0.2839 - accuracy: 0.8875 - val_loss: 0.2258 - val_accuracy: 0.9087\n",
            "Epoch 7/100\n",
            "1022/1022 [==============================] - 2s 1ms/step - loss: 0.2741 - accuracy: 0.8973 - val_loss: 0.3047 - val_accuracy: 0.8676\n",
            "Epoch 8/100\n",
            "1022/1022 [==============================] - 2s 1ms/step - loss: 0.2599 - accuracy: 0.8992 - val_loss: 0.1964 - val_accuracy: 0.9224\n",
            "Epoch 9/100\n",
            "1022/1022 [==============================] - 2s 1ms/step - loss: 0.2555 - accuracy: 0.8973 - val_loss: 0.2067 - val_accuracy: 0.9315\n",
            "Epoch 10/100\n",
            "1022/1022 [==============================] - 1s 1ms/step - loss: 0.2453 - accuracy: 0.8904 - val_loss: 0.2610 - val_accuracy: 0.8858\n",
            "Epoch 11/100\n",
            "1022/1022 [==============================] - 2s 1ms/step - loss: 0.2303 - accuracy: 0.9012 - val_loss: 0.1781 - val_accuracy: 0.9406\n",
            "Epoch 12/100\n",
            "1022/1022 [==============================] - 2s 1ms/step - loss: 0.2291 - accuracy: 0.8963 - val_loss: 0.1815 - val_accuracy: 0.9315\n",
            "Epoch 13/100\n",
            "1022/1022 [==============================] - 2s 2ms/step - loss: 0.2310 - accuracy: 0.9051 - val_loss: 0.1866 - val_accuracy: 0.9269\n",
            "Epoch 14/100\n",
            "1022/1022 [==============================] - 2s 1ms/step - loss: 0.2203 - accuracy: 0.9110 - val_loss: 0.1982 - val_accuracy: 0.9361\n",
            "Epoch 15/100\n",
            "1022/1022 [==============================] - 2s 1ms/step - loss: 0.2264 - accuracy: 0.9041 - val_loss: 0.1747 - val_accuracy: 0.9406\n",
            "Epoch 16/100\n",
            "1022/1022 [==============================] - 2s 1ms/step - loss: 0.2281 - accuracy: 0.9022 - val_loss: 0.2395 - val_accuracy: 0.9132\n",
            "Epoch 17/100\n",
            "1022/1022 [==============================] - 2s 1ms/step - loss: 0.2199 - accuracy: 0.9031 - val_loss: 0.1794 - val_accuracy: 0.9224\n",
            "Epoch 18/100\n",
            "1022/1022 [==============================] - 2s 1ms/step - loss: 0.2121 - accuracy: 0.9061 - val_loss: 0.2367 - val_accuracy: 0.9132\n",
            "Epoch 19/100\n",
            "1022/1022 [==============================] - 2s 2ms/step - loss: 0.2384 - accuracy: 0.8992 - val_loss: 0.3045 - val_accuracy: 0.8813\n",
            "Epoch 20/100\n",
            "1022/1022 [==============================] - 2s 2ms/step - loss: 0.2024 - accuracy: 0.9178 - val_loss: 0.1946 - val_accuracy: 0.9224\n",
            "Epoch 21/100\n",
            "1022/1022 [==============================] - 2s 1ms/step - loss: 0.2024 - accuracy: 0.9129 - val_loss: 0.1884 - val_accuracy: 0.9224\n",
            "Epoch 22/100\n",
            "1022/1022 [==============================] - 2s 1ms/step - loss: 0.1956 - accuracy: 0.9188 - val_loss: 0.1836 - val_accuracy: 0.9315\n",
            "Epoch 23/100\n",
            "1022/1022 [==============================] - 2s 1ms/step - loss: 0.1941 - accuracy: 0.9237 - val_loss: 0.3131 - val_accuracy: 0.8767\n",
            "Epoch 24/100\n",
            "1022/1022 [==============================] - 1s 1ms/step - loss: 0.2278 - accuracy: 0.9110 - val_loss: 0.1818 - val_accuracy: 0.9269\n",
            "Epoch 25/100\n",
            "1022/1022 [==============================] - 2s 2ms/step - loss: 0.2021 - accuracy: 0.9110 - val_loss: 0.2190 - val_accuracy: 0.9087\n",
            "Epoch 26/100\n",
            "1022/1022 [==============================] - 2s 1ms/step - loss: 0.1957 - accuracy: 0.9188 - val_loss: 0.1875 - val_accuracy: 0.9178\n",
            "Epoch 27/100\n",
            "1022/1022 [==============================] - 2s 2ms/step - loss: 0.2106 - accuracy: 0.9110 - val_loss: 0.1661 - val_accuracy: 0.9269\n",
            "Epoch 28/100\n",
            "1022/1022 [==============================] - 2s 1ms/step - loss: 0.1872 - accuracy: 0.9237 - val_loss: 0.1953 - val_accuracy: 0.9269\n",
            "Epoch 29/100\n",
            "1022/1022 [==============================] - 2s 1ms/step - loss: 0.2215 - accuracy: 0.9061 - val_loss: 0.2063 - val_accuracy: 0.9269\n",
            "Epoch 30/100\n",
            "1022/1022 [==============================] - 1s 1ms/step - loss: 0.1915 - accuracy: 0.9247 - val_loss: 0.2142 - val_accuracy: 0.9041\n",
            "Epoch 31/100\n",
            "1022/1022 [==============================] - 2s 1ms/step - loss: 0.1751 - accuracy: 0.9266 - val_loss: 0.1601 - val_accuracy: 0.9452\n",
            "Epoch 32/100\n",
            "1022/1022 [==============================] - 2s 1ms/step - loss: 0.2014 - accuracy: 0.9168 - val_loss: 0.1824 - val_accuracy: 0.9269\n",
            "Epoch 33/100\n",
            "1022/1022 [==============================] - 2s 1ms/step - loss: 0.1956 - accuracy: 0.9227 - val_loss: 0.1590 - val_accuracy: 0.9452\n",
            "Epoch 34/100\n",
            "1022/1022 [==============================] - 2s 2ms/step - loss: 0.1856 - accuracy: 0.9168 - val_loss: 0.2418 - val_accuracy: 0.9132\n",
            "Epoch 35/100\n",
            "1022/1022 [==============================] - 1s 1ms/step - loss: 0.2014 - accuracy: 0.9061 - val_loss: 0.1841 - val_accuracy: 0.9406\n",
            "Epoch 36/100\n",
            "1022/1022 [==============================] - 2s 2ms/step - loss: 0.2001 - accuracy: 0.9100 - val_loss: 0.1727 - val_accuracy: 0.9406\n",
            "Epoch 37/100\n",
            "1022/1022 [==============================] - 2s 1ms/step - loss: 0.1926 - accuracy: 0.9188 - val_loss: 0.2624 - val_accuracy: 0.8630\n",
            "Epoch 38/100\n",
            "1022/1022 [==============================] - 2s 1ms/step - loss: 0.2078 - accuracy: 0.9041 - val_loss: 0.2037 - val_accuracy: 0.9178\n",
            "Epoch 39/100\n",
            "1022/1022 [==============================] - 2s 1ms/step - loss: 0.1898 - accuracy: 0.9237 - val_loss: 0.2462 - val_accuracy: 0.8995\n",
            "Epoch 40/100\n",
            "1022/1022 [==============================] - 2s 1ms/step - loss: 0.1787 - accuracy: 0.9286 - val_loss: 0.2159 - val_accuracy: 0.9269\n",
            "Epoch 41/100\n",
            "1022/1022 [==============================] - 2s 2ms/step - loss: 0.1709 - accuracy: 0.9237 - val_loss: 0.2392 - val_accuracy: 0.9178\n",
            "Epoch 42/100\n",
            "1022/1022 [==============================] - 2s 2ms/step - loss: 0.1758 - accuracy: 0.9276 - val_loss: 0.2502 - val_accuracy: 0.9041\n",
            "Epoch 43/100\n",
            "1022/1022 [==============================] - 1s 1ms/step - loss: 0.1645 - accuracy: 0.9393 - val_loss: 0.1765 - val_accuracy: 0.9361\n",
            "Epoch 44/100\n",
            "1022/1022 [==============================] - 2s 1ms/step - loss: 0.1797 - accuracy: 0.9237 - val_loss: 0.2580 - val_accuracy: 0.9041\n",
            "Epoch 45/100\n",
            "1022/1022 [==============================] - 1s 1ms/step - loss: 0.1854 - accuracy: 0.9207 - val_loss: 0.1950 - val_accuracy: 0.9315\n",
            "Epoch 46/100\n",
            "1022/1022 [==============================] - 2s 1ms/step - loss: 0.1788 - accuracy: 0.9237 - val_loss: 0.2055 - val_accuracy: 0.9269\n",
            "Epoch 47/100\n",
            "1022/1022 [==============================] - 2s 1ms/step - loss: 0.1979 - accuracy: 0.9100 - val_loss: 0.1930 - val_accuracy: 0.9361\n",
            "Epoch 48/100\n",
            "1022/1022 [==============================] - 2s 1ms/step - loss: 0.1754 - accuracy: 0.9198 - val_loss: 0.1985 - val_accuracy: 0.9315\n",
            "Epoch 49/100\n",
            "1022/1022 [==============================] - 2s 1ms/step - loss: 0.1761 - accuracy: 0.9256 - val_loss: 0.1922 - val_accuracy: 0.9315\n",
            "Epoch 50/100\n",
            "1022/1022 [==============================] - 2s 1ms/step - loss: 0.1550 - accuracy: 0.9325 - val_loss: 0.2746 - val_accuracy: 0.9041\n",
            "Epoch 51/100\n",
            "1022/1022 [==============================] - 2s 1ms/step - loss: 0.1613 - accuracy: 0.9325 - val_loss: 0.1711 - val_accuracy: 0.9315\n",
            "Epoch 52/100\n",
            "1022/1022 [==============================] - 2s 1ms/step - loss: 0.1615 - accuracy: 0.9325 - val_loss: 0.1983 - val_accuracy: 0.9452\n",
            "Epoch 53/100\n",
            "1022/1022 [==============================] - 2s 1ms/step - loss: 0.1595 - accuracy: 0.9384 - val_loss: 0.3134 - val_accuracy: 0.9087\n",
            "Epoch 54/100\n",
            "1022/1022 [==============================] - 2s 1ms/step - loss: 0.1684 - accuracy: 0.9256 - val_loss: 0.2140 - val_accuracy: 0.9132\n",
            "Epoch 55/100\n",
            "1022/1022 [==============================] - 2s 1ms/step - loss: 0.1570 - accuracy: 0.9423 - val_loss: 0.2038 - val_accuracy: 0.9178\n",
            "Epoch 56/100\n",
            "1022/1022 [==============================] - 2s 2ms/step - loss: 0.1648 - accuracy: 0.9305 - val_loss: 0.2288 - val_accuracy: 0.9132\n",
            "Epoch 57/100\n",
            "1022/1022 [==============================] - 1s 1ms/step - loss: 0.1428 - accuracy: 0.9384 - val_loss: 0.2010 - val_accuracy: 0.9269\n",
            "Epoch 58/100\n",
            "1022/1022 [==============================] - 1s 1ms/step - loss: 0.1581 - accuracy: 0.9335 - val_loss: 0.2650 - val_accuracy: 0.9224\n",
            "Epoch 59/100\n",
            "1022/1022 [==============================] - 1s 1ms/step - loss: 0.1622 - accuracy: 0.9266 - val_loss: 0.2281 - val_accuracy: 0.9224\n",
            "Epoch 60/100\n",
            "1022/1022 [==============================] - 1s 1ms/step - loss: 0.1581 - accuracy: 0.9354 - val_loss: 0.2386 - val_accuracy: 0.9269\n",
            "Epoch 61/100\n",
            "1022/1022 [==============================] - 2s 1ms/step - loss: 0.1503 - accuracy: 0.9432 - val_loss: 0.2251 - val_accuracy: 0.9315\n",
            "Epoch 62/100\n",
            "1022/1022 [==============================] - 1s 1ms/step - loss: 0.1488 - accuracy: 0.9393 - val_loss: 0.2120 - val_accuracy: 0.9269\n",
            "Epoch 63/100\n",
            "1022/1022 [==============================] - 1s 1ms/step - loss: 0.1391 - accuracy: 0.9413 - val_loss: 0.2250 - val_accuracy: 0.9224\n",
            "Epoch 64/100\n",
            "1022/1022 [==============================] - 2s 1ms/step - loss: 0.1434 - accuracy: 0.9384 - val_loss: 0.2316 - val_accuracy: 0.9269\n",
            "Epoch 65/100\n",
            "1022/1022 [==============================] - 2s 1ms/step - loss: 0.1386 - accuracy: 0.9354 - val_loss: 0.2256 - val_accuracy: 0.9315\n",
            "Epoch 66/100\n",
            "1022/1022 [==============================] - 1s 1ms/step - loss: 0.1432 - accuracy: 0.9384 - val_loss: 0.2337 - val_accuracy: 0.9178\n",
            "Epoch 67/100\n",
            "1022/1022 [==============================] - 1s 1ms/step - loss: 0.1300 - accuracy: 0.9413 - val_loss: 0.2283 - val_accuracy: 0.9269\n",
            "Epoch 68/100\n",
            "1022/1022 [==============================] - 2s 1ms/step - loss: 0.1334 - accuracy: 0.9462 - val_loss: 0.2441 - val_accuracy: 0.9224\n",
            "Epoch 69/100\n",
            "1022/1022 [==============================] - 2s 1ms/step - loss: 0.1470 - accuracy: 0.9384 - val_loss: 0.2676 - val_accuracy: 0.9224\n",
            "Epoch 70/100\n",
            "1022/1022 [==============================] - 1s 1ms/step - loss: 0.1540 - accuracy: 0.9452 - val_loss: 0.2412 - val_accuracy: 0.9178\n",
            "Epoch 71/100\n",
            "1022/1022 [==============================] - 2s 1ms/step - loss: 0.1548 - accuracy: 0.9315 - val_loss: 0.2232 - val_accuracy: 0.9224\n",
            "Epoch 72/100\n",
            "1022/1022 [==============================] - 1s 1ms/step - loss: 0.1402 - accuracy: 0.9472 - val_loss: 0.2334 - val_accuracy: 0.9178\n",
            "Epoch 73/100\n",
            "1022/1022 [==============================] - 1s 1ms/step - loss: 0.1413 - accuracy: 0.9393 - val_loss: 0.2736 - val_accuracy: 0.9087\n",
            "Epoch 74/100\n",
            "1022/1022 [==============================] - 1s 1ms/step - loss: 0.1411 - accuracy: 0.9374 - val_loss: 0.2751 - val_accuracy: 0.9132\n",
            "Epoch 75/100\n",
            "1022/1022 [==============================] - 2s 1ms/step - loss: 0.2169 - accuracy: 0.9217 - val_loss: 0.2522 - val_accuracy: 0.9269\n",
            "Epoch 76/100\n",
            "1022/1022 [==============================] - 2s 1ms/step - loss: 0.1494 - accuracy: 0.9432 - val_loss: 0.2272 - val_accuracy: 0.9224\n",
            "Epoch 77/100\n",
            "1022/1022 [==============================] - 2s 2ms/step - loss: 0.1383 - accuracy: 0.9393 - val_loss: 0.2467 - val_accuracy: 0.9178\n",
            "Epoch 78/100\n",
            "1022/1022 [==============================] - 2s 2ms/step - loss: 0.1243 - accuracy: 0.9511 - val_loss: 0.2546 - val_accuracy: 0.9178\n",
            "Epoch 79/100\n",
            "1022/1022 [==============================] - 2s 1ms/step - loss: 0.1359 - accuracy: 0.9491 - val_loss: 0.2376 - val_accuracy: 0.9269\n",
            "Epoch 80/100\n",
            "1022/1022 [==============================] - 2s 1ms/step - loss: 0.1487 - accuracy: 0.9462 - val_loss: 0.2890 - val_accuracy: 0.9132\n",
            "Epoch 81/100\n",
            "1022/1022 [==============================] - 2s 1ms/step - loss: 0.1233 - accuracy: 0.9550 - val_loss: 0.3021 - val_accuracy: 0.9087\n",
            "Epoch 82/100\n",
            "1022/1022 [==============================] - 2s 1ms/step - loss: 0.1017 - accuracy: 0.9589 - val_loss: 0.2633 - val_accuracy: 0.9224\n",
            "Epoch 83/100\n",
            "1022/1022 [==============================] - 1s 1ms/step - loss: 0.1364 - accuracy: 0.9491 - val_loss: 0.2919 - val_accuracy: 0.9178\n",
            "Epoch 84/100\n",
            "1022/1022 [==============================] - 1s 1ms/step - loss: 0.1265 - accuracy: 0.9481 - val_loss: 0.2760 - val_accuracy: 0.9178\n",
            "Epoch 85/100\n",
            "1022/1022 [==============================] - 2s 1ms/step - loss: 0.1331 - accuracy: 0.9481 - val_loss: 0.2172 - val_accuracy: 0.9132\n",
            "Epoch 86/100\n",
            "1022/1022 [==============================] - 2s 1ms/step - loss: 0.1212 - accuracy: 0.9501 - val_loss: 0.2904 - val_accuracy: 0.8995\n",
            "Epoch 87/100\n",
            "1022/1022 [==============================] - 2s 2ms/step - loss: 0.1327 - accuracy: 0.9384 - val_loss: 0.2378 - val_accuracy: 0.9269\n",
            "Epoch 88/100\n",
            "1022/1022 [==============================] - 2s 1ms/step - loss: 0.1217 - accuracy: 0.9491 - val_loss: 0.3129 - val_accuracy: 0.9178\n",
            "Epoch 89/100\n",
            "1022/1022 [==============================] - 2s 1ms/step - loss: 0.1757 - accuracy: 0.9393 - val_loss: 0.2216 - val_accuracy: 0.9361\n",
            "Epoch 90/100\n",
            "1022/1022 [==============================] - 2s 1ms/step - loss: 0.1486 - accuracy: 0.9403 - val_loss: 0.2607 - val_accuracy: 0.9178\n",
            "Epoch 91/100\n",
            "1022/1022 [==============================] - 2s 1ms/step - loss: 0.1304 - accuracy: 0.9501 - val_loss: 0.2516 - val_accuracy: 0.9132\n",
            "Epoch 92/100\n",
            "1022/1022 [==============================] - 2s 1ms/step - loss: 0.1547 - accuracy: 0.9384 - val_loss: 0.3486 - val_accuracy: 0.8630\n",
            "Epoch 93/100\n",
            "1022/1022 [==============================] - 2s 1ms/step - loss: 0.1532 - accuracy: 0.9413 - val_loss: 0.2651 - val_accuracy: 0.9178\n",
            "Epoch 94/100\n",
            "1022/1022 [==============================] - 2s 1ms/step - loss: 0.1147 - accuracy: 0.9530 - val_loss: 0.3039 - val_accuracy: 0.9178\n",
            "Epoch 95/100\n",
            "1022/1022 [==============================] - 2s 2ms/step - loss: 0.1401 - accuracy: 0.9403 - val_loss: 0.2962 - val_accuracy: 0.9178\n",
            "Epoch 96/100\n",
            "1022/1022 [==============================] - 2s 2ms/step - loss: 0.1035 - accuracy: 0.9550 - val_loss: 0.3030 - val_accuracy: 0.9224\n",
            "Epoch 97/100\n",
            "1022/1022 [==============================] - 2s 1ms/step - loss: 0.1046 - accuracy: 0.9579 - val_loss: 0.2536 - val_accuracy: 0.9178\n",
            "Epoch 98/100\n",
            "1022/1022 [==============================] - 2s 1ms/step - loss: 0.1019 - accuracy: 0.9550 - val_loss: 0.2378 - val_accuracy: 0.9224\n",
            "Epoch 99/100\n",
            "1022/1022 [==============================] - 2s 1ms/step - loss: 0.1165 - accuracy: 0.9521 - val_loss: 0.2888 - val_accuracy: 0.9224\n",
            "Epoch 100/100\n",
            "1022/1022 [==============================] - 1s 1ms/step - loss: 0.1287 - accuracy: 0.9452 - val_loss: 0.3231 - val_accuracy: 0.9178\n"
          ],
          "name": "stdout"
        }
      ]
    },
    {
      "cell_type": "code",
      "metadata": {
        "id": "HoI4VRkQP78S",
        "colab_type": "code",
        "colab": {
          "base_uri": "https://localhost:8080/",
          "height": 51
        },
        "outputId": "e89b2bd2-f838-4e03-a6a9-c7c64afc1d22"
      },
      "source": [
        "model_2.evaluate(X_test, Y_test)[1]"
      ],
      "execution_count": 52,
      "outputs": [
        {
          "output_type": "stream",
          "text": [
            "219/219 [==============================] - 0s 277us/step\n"
          ],
          "name": "stdout"
        },
        {
          "output_type": "execute_result",
          "data": {
            "text/plain": [
              "0.8767123222351074"
            ]
          },
          "metadata": {
            "tags": []
          },
          "execution_count": 52
        }
      ]
    },
    {
      "cell_type": "code",
      "metadata": {
        "id": "Pw0dY0aMQrD5",
        "colab_type": "code",
        "colab": {
          "base_uri": "https://localhost:8080/",
          "height": 295
        },
        "outputId": "2c222397-64d9-43df-a1bd-d915239b810f"
      },
      "source": [
        "plt.plot(hist_2.history['loss'])\n",
        "plt.plot(hist_2.history['val_loss'])\n",
        "plt.title('Model loss')\n",
        "plt.ylabel('Loss')\n",
        "plt.xlabel('Epoch')\n",
        "plt.legend(['Train', 'Val'], loc='upper right')\n",
        "plt.show()"
      ],
      "execution_count": 53,
      "outputs": [
        {
          "output_type": "display_data",
          "data": {
            "image/png": "[encoded data removed]",
            "text/plain": [
              "<Figure size 432x288 with 1 Axes>"
            ]
          },
          "metadata": {
            "tags": [],
            "needs_background": "light"
          }
        }
      ]
    },
    {
      "cell_type": "code",
      "metadata": {
        "id": "-IwAb1VvRHev",
        "colab_type": "code",
        "colab": {
          "base_uri": "https://localhost:8080/",
          "height": 295
        },
        "outputId": "c2096feb-d2fe-4d1d-c505-858662cdeb80"
      },
      "source": [
        "plt.plot(hist_2.history['accuracy'])\n",
        "plt.plot(hist_2.history['val_accuracy'])\n",
        "plt.title('Model accuracy')\n",
        "plt.ylabel('Accuracy')\n",
        "plt.xlabel('Epoch')\n",
        "plt.legend(['Train', 'Val'], loc='lower right')\n",
        "plt.show()"
      ],
      "execution_count": 55,
      "outputs": [
        {
          "output_type": "display_data",
          "data": {
            "image/png": "[encoded data removed]",
            "text/plain": [
              "<Figure size 432x288 with 1 Axes>"
            ]
          },
          "metadata": {
            "tags": [],
            "needs_background": "light"
          }
        }
      ]
    },
    {
      "cell_type": "code",
      "metadata": {
        "id": "NO5UBmHJRIds",
        "colab_type": "code",
        "colab": {}
      },
      "source": [
        "## Now we will See that With more Dense Network Our validation Loss will increase. Lets Try Dense layer with 1000 neurons and 9 Hidden layers."
      ],
      "execution_count": 56,
      "outputs": []
    },
    {
      "cell_type": "code",
      "metadata": {
        "id": "3rEOsLlURf0x",
        "colab_type": "code",
        "colab": {
          "base_uri": "https://localhost:8080/",
          "height": 1000
        },
        "outputId": "3de3b789-8908-4d87-e861-004c3528ce91"
      },
      "source": [
        "model_3 = Sequential([\n",
        "    Dense(1000, activation='relu', input_shape=(10,)),\n",
        "    Dense(1000, activation='relu'),\n",
        "    Dense(1000, activation='relu'),\n",
        "    Dense(1000, activation='relu'),\n",
        "    Dense(1000, activation='relu'),\n",
        "    Dense(1000, activation='relu'),\n",
        "    Dense(1000, activation='relu'),\n",
        "    Dense(1000, activation='relu'),\n",
        "    Dense(1000, activation='relu'),\n",
        "    Dense(1, activation='sigmoid'),\n",
        "])\n",
        "model_3.compile(optimizer='adam',\n",
        "              loss='binary_crossentropy',\n",
        "              metrics=['accuracy'])\n",
        "hist_3 = model_3.fit(X_train, Y_train,\n",
        "          batch_size=32, epochs=100,\n",
        "          validation_data=(X_val, Y_val))"
      ],
      "execution_count": 61,
      "outputs": [
        {
          "output_type": "stream",
          "text": [
            "Train on 1022 samples, validate on 219 samples\n",
            "Epoch 1/100\n",
            "1022/1022 [==============================] - 4s 4ms/step - loss: 0.6043 - accuracy: 0.6204 - val_loss: 0.4257 - val_accuracy: 0.8265\n",
            "Epoch 2/100\n",
            "1022/1022 [==============================] - 4s 4ms/step - loss: 0.4404 - accuracy: 0.8239 - val_loss: 0.3175 - val_accuracy: 0.9132\n",
            "Epoch 3/100\n",
            "1022/1022 [==============================] - 4s 4ms/step - loss: 0.3592 - accuracy: 0.8620 - val_loss: 0.2744 - val_accuracy: 0.8813\n",
            "Epoch 4/100\n",
            "1022/1022 [==============================] - 4s 4ms/step - loss: 0.3240 - accuracy: 0.8640 - val_loss: 0.1995 - val_accuracy: 0.9269\n",
            "Epoch 5/100\n",
            "1022/1022 [==============================] - 4s 4ms/step - loss: 0.3029 - accuracy: 0.8659 - val_loss: 0.2277 - val_accuracy: 0.9132\n",
            "Epoch 6/100\n",
            "1022/1022 [==============================] - 4s 4ms/step - loss: 0.2892 - accuracy: 0.8826 - val_loss: 0.2553 - val_accuracy: 0.8995\n",
            "Epoch 7/100\n",
            "1022/1022 [==============================] - 4s 4ms/step - loss: 0.2873 - accuracy: 0.8875 - val_loss: 0.2066 - val_accuracy: 0.9041\n",
            "Epoch 8/100\n",
            "1022/1022 [==============================] - 4s 4ms/step - loss: 0.2818 - accuracy: 0.8894 - val_loss: 0.2250 - val_accuracy: 0.9132\n",
            "Epoch 9/100\n",
            "1022/1022 [==============================] - 4s 4ms/step - loss: 0.2709 - accuracy: 0.9041 - val_loss: 0.2139 - val_accuracy: 0.9132\n",
            "Epoch 10/100\n",
            "1022/1022 [==============================] - 4s 4ms/step - loss: 0.3022 - accuracy: 0.8718 - val_loss: 0.3048 - val_accuracy: 0.8265\n",
            "Epoch 11/100\n",
            "1022/1022 [==============================] - 4s 4ms/step - loss: 0.3213 - accuracy: 0.8640 - val_loss: 0.2805 - val_accuracy: 0.8813\n",
            "Epoch 12/100\n",
            "1022/1022 [==============================] - 4s 4ms/step - loss: 0.2563 - accuracy: 0.8933 - val_loss: 0.2329 - val_accuracy: 0.9178\n",
            "Epoch 13/100\n",
            "1022/1022 [==============================] - 4s 4ms/step - loss: 0.2980 - accuracy: 0.8904 - val_loss: 0.2138 - val_accuracy: 0.8904\n",
            "Epoch 14/100\n",
            "1022/1022 [==============================] - 4s 4ms/step - loss: 0.2370 - accuracy: 0.9012 - val_loss: 0.1913 - val_accuracy: 0.9132\n",
            "Epoch 15/100\n",
            "1022/1022 [==============================] - 4s 4ms/step - loss: 0.2551 - accuracy: 0.8875 - val_loss: 0.2080 - val_accuracy: 0.9087\n",
            "Epoch 16/100\n",
            "1022/1022 [==============================] - 4s 4ms/step - loss: 0.4791 - accuracy: 0.8317 - val_loss: 0.3325 - val_accuracy: 0.8082\n",
            "Epoch 17/100\n",
            "1022/1022 [==============================] - 4s 4ms/step - loss: 0.2978 - accuracy: 0.8689 - val_loss: 0.3246 - val_accuracy: 0.8539\n",
            "Epoch 18/100\n",
            "1022/1022 [==============================] - 4s 4ms/step - loss: 0.2597 - accuracy: 0.8924 - val_loss: 0.2499 - val_accuracy: 0.8904\n",
            "Epoch 19/100\n",
            "1022/1022 [==============================] - 4s 4ms/step - loss: 0.2438 - accuracy: 0.9022 - val_loss: 0.2039 - val_accuracy: 0.9132\n",
            "Epoch 20/100\n",
            "1022/1022 [==============================] - 4s 4ms/step - loss: 0.2406 - accuracy: 0.9002 - val_loss: 0.1847 - val_accuracy: 0.9269\n",
            "Epoch 21/100\n",
            "1022/1022 [==============================] - 4s 4ms/step - loss: 0.2521 - accuracy: 0.9022 - val_loss: 0.2209 - val_accuracy: 0.9269\n",
            "Epoch 22/100\n",
            "1022/1022 [==============================] - 4s 4ms/step - loss: 0.2361 - accuracy: 0.9061 - val_loss: 0.2174 - val_accuracy: 0.9315\n",
            "Epoch 23/100\n",
            "1022/1022 [==============================] - 4s 4ms/step - loss: 0.2985 - accuracy: 0.8836 - val_loss: 0.2607 - val_accuracy: 0.9041\n",
            "Epoch 24/100\n",
            "1022/1022 [==============================] - 4s 4ms/step - loss: 0.3178 - accuracy: 0.8689 - val_loss: 0.2861 - val_accuracy: 0.8539\n",
            "Epoch 25/100\n",
            "1022/1022 [==============================] - 4s 4ms/step - loss: 0.2489 - accuracy: 0.8865 - val_loss: 0.2248 - val_accuracy: 0.9041\n",
            "Epoch 26/100\n",
            "1022/1022 [==============================] - 4s 4ms/step - loss: 0.2346 - accuracy: 0.8875 - val_loss: 0.1937 - val_accuracy: 0.9406\n",
            "Epoch 27/100\n",
            "1022/1022 [==============================] - 4s 4ms/step - loss: 0.2269 - accuracy: 0.9100 - val_loss: 0.2435 - val_accuracy: 0.9087\n",
            "Epoch 28/100\n",
            "1022/1022 [==============================] - 4s 4ms/step - loss: 0.2133 - accuracy: 0.9149 - val_loss: 0.2036 - val_accuracy: 0.9315\n",
            "Epoch 29/100\n",
            "1022/1022 [==============================] - 4s 4ms/step - loss: 0.2482 - accuracy: 0.8982 - val_loss: 0.2078 - val_accuracy: 0.9132\n",
            "Epoch 30/100\n",
            "1022/1022 [==============================] - 4s 4ms/step - loss: 0.2144 - accuracy: 0.9080 - val_loss: 0.2120 - val_accuracy: 0.9315\n",
            "Epoch 31/100\n",
            "1022/1022 [==============================] - 4s 4ms/step - loss: 0.2217 - accuracy: 0.9022 - val_loss: 0.2295 - val_accuracy: 0.9224\n",
            "Epoch 32/100\n",
            "1022/1022 [==============================] - 4s 4ms/step - loss: 0.2236 - accuracy: 0.8982 - val_loss: 0.2280 - val_accuracy: 0.8904\n",
            "Epoch 33/100\n",
            "1022/1022 [==============================] - 4s 4ms/step - loss: 0.2674 - accuracy: 0.8933 - val_loss: 0.3175 - val_accuracy: 0.8858\n",
            "Epoch 34/100\n",
            "1022/1022 [==============================] - 4s 4ms/step - loss: 0.2586 - accuracy: 0.8943 - val_loss: 0.2438 - val_accuracy: 0.8995\n",
            "Epoch 35/100\n",
            "1022/1022 [==============================] - 4s 4ms/step - loss: 0.2339 - accuracy: 0.8982 - val_loss: 0.1830 - val_accuracy: 0.9498\n",
            "Epoch 36/100\n",
            "1022/1022 [==============================] - 4s 4ms/step - loss: 0.2205 - accuracy: 0.9149 - val_loss: 0.2799 - val_accuracy: 0.9406\n",
            "Epoch 37/100\n",
            "1022/1022 [==============================] - 4s 4ms/step - loss: 0.2089 - accuracy: 0.9149 - val_loss: 0.2163 - val_accuracy: 0.9269\n",
            "Epoch 38/100\n",
            "1022/1022 [==============================] - 4s 4ms/step - loss: 0.2317 - accuracy: 0.9110 - val_loss: 0.2245 - val_accuracy: 0.9087\n",
            "Epoch 39/100\n",
            "1022/1022 [==============================] - 4s 4ms/step - loss: 0.2016 - accuracy: 0.9129 - val_loss: 0.2496 - val_accuracy: 0.9132\n",
            "Epoch 40/100\n",
            "1022/1022 [==============================] - 4s 4ms/step - loss: 0.2198 - accuracy: 0.9149 - val_loss: 0.2188 - val_accuracy: 0.9269\n",
            "Epoch 41/100\n",
            "1022/1022 [==============================] - 4s 4ms/step - loss: 0.2185 - accuracy: 0.9051 - val_loss: 0.3209 - val_accuracy: 0.8995\n",
            "Epoch 42/100\n",
            "1022/1022 [==============================] - 4s 4ms/step - loss: 0.2337 - accuracy: 0.8992 - val_loss: 0.2630 - val_accuracy: 0.8950\n",
            "Epoch 43/100\n",
            "1022/1022 [==============================] - 4s 4ms/step - loss: 0.2204 - accuracy: 0.9051 - val_loss: 0.2081 - val_accuracy: 0.9452\n",
            "Epoch 44/100\n",
            "1022/1022 [==============================] - 4s 4ms/step - loss: 0.2298 - accuracy: 0.9100 - val_loss: 0.2709 - val_accuracy: 0.8995\n",
            "Epoch 45/100\n",
            "1022/1022 [==============================] - 4s 4ms/step - loss: 0.2409 - accuracy: 0.8992 - val_loss: 0.2274 - val_accuracy: 0.9178\n",
            "Epoch 46/100\n",
            "1022/1022 [==============================] - 4s 4ms/step - loss: 0.2403 - accuracy: 0.9207 - val_loss: 0.3241 - val_accuracy: 0.8950\n",
            "Epoch 47/100\n",
            "1022/1022 [==============================] - 4s 4ms/step - loss: 0.2134 - accuracy: 0.9090 - val_loss: 0.2922 - val_accuracy: 0.8950\n",
            "Epoch 48/100\n",
            "1022/1022 [==============================] - 4s 4ms/step - loss: 0.1972 - accuracy: 0.9207 - val_loss: 0.2523 - val_accuracy: 0.9406\n",
            "Epoch 49/100\n",
            "1022/1022 [==============================] - 4s 4ms/step - loss: 0.2237 - accuracy: 0.9041 - val_loss: 0.2145 - val_accuracy: 0.9224\n",
            "Epoch 50/100\n",
            "1022/1022 [==============================] - 4s 4ms/step - loss: 0.2516 - accuracy: 0.8845 - val_loss: 0.2927 - val_accuracy: 0.9269\n",
            "Epoch 51/100\n",
            "1022/1022 [==============================] - 4s 4ms/step - loss: 0.2318 - accuracy: 0.9110 - val_loss: 0.2665 - val_accuracy: 0.9132\n",
            "Epoch 52/100\n",
            "1022/1022 [==============================] - 4s 4ms/step - loss: 0.2154 - accuracy: 0.9090 - val_loss: 0.3312 - val_accuracy: 0.9132\n",
            "Epoch 53/100\n",
            "1022/1022 [==============================] - 4s 4ms/step - loss: 0.2137 - accuracy: 0.9119 - val_loss: 0.4603 - val_accuracy: 0.9361\n",
            "Epoch 54/100\n",
            "1022/1022 [==============================] - 4s 4ms/step - loss: 0.2021 - accuracy: 0.9188 - val_loss: 0.3815 - val_accuracy: 0.8904\n",
            "Epoch 55/100\n",
            "1022/1022 [==============================] - 4s 4ms/step - loss: 0.2186 - accuracy: 0.9110 - val_loss: 0.2649 - val_accuracy: 0.9041\n",
            "Epoch 56/100\n",
            "1022/1022 [==============================] - 4s 4ms/step - loss: 0.1953 - accuracy: 0.9129 - val_loss: 0.4911 - val_accuracy: 0.9178\n",
            "Epoch 57/100\n",
            "1022/1022 [==============================] - 4s 4ms/step - loss: 0.2371 - accuracy: 0.9129 - val_loss: 0.4531 - val_accuracy: 0.8174\n",
            "Epoch 58/100\n",
            "1022/1022 [==============================] - 4s 4ms/step - loss: 0.3428 - accuracy: 0.8611 - val_loss: 0.2581 - val_accuracy: 0.8950\n",
            "Epoch 59/100\n",
            "1022/1022 [==============================] - 4s 4ms/step - loss: 0.2421 - accuracy: 0.9012 - val_loss: 0.5286 - val_accuracy: 0.9224\n",
            "Epoch 60/100\n",
            "1022/1022 [==============================] - 4s 4ms/step - loss: 0.2141 - accuracy: 0.9090 - val_loss: 0.3929 - val_accuracy: 0.9452\n",
            "Epoch 61/100\n",
            "1022/1022 [==============================] - 4s 4ms/step - loss: 0.2120 - accuracy: 0.9110 - val_loss: 0.4691 - val_accuracy: 0.9178\n",
            "Epoch 62/100\n",
            "1022/1022 [==============================] - 4s 4ms/step - loss: 0.2335 - accuracy: 0.8992 - val_loss: 0.4276 - val_accuracy: 0.9361\n",
            "Epoch 63/100\n",
            "1022/1022 [==============================] - 4s 4ms/step - loss: 0.2040 - accuracy: 0.9129 - val_loss: 0.4074 - val_accuracy: 0.9315\n",
            "Epoch 64/100\n",
            "1022/1022 [==============================] - 4s 4ms/step - loss: 0.2012 - accuracy: 0.9168 - val_loss: 0.3418 - val_accuracy: 0.9178\n",
            "Epoch 65/100\n",
            "1022/1022 [==============================] - 4s 4ms/step - loss: 0.2346 - accuracy: 0.9080 - val_loss: 0.3348 - val_accuracy: 0.9224\n",
            "Epoch 66/100\n",
            "1022/1022 [==============================] - 4s 4ms/step - loss: 0.2006 - accuracy: 0.9217 - val_loss: 0.4826 - val_accuracy: 0.9132\n",
            "Epoch 67/100\n",
            "1022/1022 [==============================] - 4s 4ms/step - loss: 0.1887 - accuracy: 0.9149 - val_loss: 0.4654 - val_accuracy: 0.9315\n",
            "Epoch 68/100\n",
            "1022/1022 [==============================] - 4s 4ms/step - loss: 0.1901 - accuracy: 0.9178 - val_loss: 0.5118 - val_accuracy: 0.9452\n",
            "Epoch 69/100\n",
            "1022/1022 [==============================] - 4s 4ms/step - loss: 0.1964 - accuracy: 0.9188 - val_loss: 0.5589 - val_accuracy: 0.9361\n",
            "Epoch 70/100\n",
            "1022/1022 [==============================] - 4s 4ms/step - loss: 0.1991 - accuracy: 0.9198 - val_loss: 0.8248 - val_accuracy: 0.9361\n",
            "Epoch 71/100\n",
            "1022/1022 [==============================] - 4s 4ms/step - loss: 0.2666 - accuracy: 0.8767 - val_loss: 0.5113 - val_accuracy: 0.9178\n",
            "Epoch 72/100\n",
            "1022/1022 [==============================] - 4s 4ms/step - loss: 0.2772 - accuracy: 0.8875 - val_loss: 0.1954 - val_accuracy: 0.9361\n",
            "Epoch 73/100\n",
            "1022/1022 [==============================] - 4s 4ms/step - loss: 0.2131 - accuracy: 0.9080 - val_loss: 0.2945 - val_accuracy: 0.8630\n",
            "Epoch 74/100\n",
            "1022/1022 [==============================] - 4s 4ms/step - loss: 0.2524 - accuracy: 0.8992 - val_loss: 0.2047 - val_accuracy: 0.9269\n",
            "Epoch 75/100\n",
            "1022/1022 [==============================] - 4s 4ms/step - loss: 0.2103 - accuracy: 0.9090 - val_loss: 0.2699 - val_accuracy: 0.9269\n",
            "Epoch 76/100\n",
            "1022/1022 [==============================] - 4s 4ms/step - loss: 0.2611 - accuracy: 0.8933 - val_loss: 0.2647 - val_accuracy: 0.9361\n",
            "Epoch 77/100\n",
            "1022/1022 [==============================] - 4s 4ms/step - loss: 0.2138 - accuracy: 0.9129 - val_loss: 0.3575 - val_accuracy: 0.8995\n",
            "Epoch 78/100\n",
            "1022/1022 [==============================] - 4s 4ms/step - loss: 0.1910 - accuracy: 0.9207 - val_loss: 0.7118 - val_accuracy: 0.9361\n",
            "Epoch 79/100\n",
            "1022/1022 [==============================] - 4s 4ms/step - loss: 0.1823 - accuracy: 0.9286 - val_loss: 0.2480 - val_accuracy: 0.8950\n",
            "Epoch 80/100\n",
            "1022/1022 [==============================] - 4s 4ms/step - loss: 0.1951 - accuracy: 0.9110 - val_loss: 1.7336 - val_accuracy: 0.9132\n",
            "Epoch 81/100\n",
            "1022/1022 [==============================] - 4s 4ms/step - loss: 0.2025 - accuracy: 0.9110 - val_loss: 0.8592 - val_accuracy: 0.9224\n",
            "Epoch 82/100\n",
            "1022/1022 [==============================] - 4s 4ms/step - loss: 0.2033 - accuracy: 0.9198 - val_loss: 0.7564 - val_accuracy: 0.9269\n",
            "Epoch 83/100\n",
            "1022/1022 [==============================] - 4s 4ms/step - loss: 0.2014 - accuracy: 0.9217 - val_loss: 0.9339 - val_accuracy: 0.9315\n",
            "Epoch 84/100\n",
            "1022/1022 [==============================] - 4s 4ms/step - loss: 0.1885 - accuracy: 0.9217 - val_loss: 1.0311 - val_accuracy: 0.9224\n",
            "Epoch 85/100\n",
            "1022/1022 [==============================] - 4s 4ms/step - loss: 0.1824 - accuracy: 0.9168 - val_loss: 0.5349 - val_accuracy: 0.8950\n",
            "Epoch 86/100\n",
            "1022/1022 [==============================] - 4s 4ms/step - loss: 0.2056 - accuracy: 0.9149 - val_loss: 0.6732 - val_accuracy: 0.9041\n",
            "Epoch 87/100\n",
            "1022/1022 [==============================] - 4s 4ms/step - loss: 0.1888 - accuracy: 0.9247 - val_loss: 0.7329 - val_accuracy: 0.8904\n",
            "Epoch 88/100\n",
            "1022/1022 [==============================] - 4s 4ms/step - loss: 0.1719 - accuracy: 0.9295 - val_loss: 1.4864 - val_accuracy: 0.9132\n",
            "Epoch 89/100\n",
            "1022/1022 [==============================] - 4s 4ms/step - loss: 0.1840 - accuracy: 0.9227 - val_loss: 1.1341 - val_accuracy: 0.9132\n",
            "Epoch 90/100\n",
            "1022/1022 [==============================] - 4s 4ms/step - loss: 0.1743 - accuracy: 0.9217 - val_loss: 1.1969 - val_accuracy: 0.8950\n",
            "Epoch 91/100\n",
            "1022/1022 [==============================] - 4s 4ms/step - loss: 0.1727 - accuracy: 0.9384 - val_loss: 1.0740 - val_accuracy: 0.9406\n",
            "Epoch 92/100\n",
            "1022/1022 [==============================] - 4s 4ms/step - loss: 0.1822 - accuracy: 0.9247 - val_loss: 1.2665 - val_accuracy: 0.9315\n",
            "Epoch 93/100\n",
            "1022/1022 [==============================] - 4s 4ms/step - loss: 0.1647 - accuracy: 0.9335 - val_loss: 1.4626 - val_accuracy: 0.9224\n",
            "Epoch 94/100\n",
            "1022/1022 [==============================] - 4s 4ms/step - loss: 0.1899 - accuracy: 0.9247 - val_loss: 1.7322 - val_accuracy: 0.9315\n",
            "Epoch 95/100\n",
            "1022/1022 [==============================] - 4s 4ms/step - loss: 0.1822 - accuracy: 0.9286 - val_loss: 0.3254 - val_accuracy: 0.8767\n",
            "Epoch 96/100\n",
            "1022/1022 [==============================] - 4s 4ms/step - loss: 0.1941 - accuracy: 0.9295 - val_loss: 0.6476 - val_accuracy: 0.9224\n",
            "Epoch 97/100\n",
            "1022/1022 [==============================] - 4s 4ms/step - loss: 0.1886 - accuracy: 0.9207 - val_loss: 0.6463 - val_accuracy: 0.9087\n",
            "Epoch 98/100\n",
            "1022/1022 [==============================] - 4s 4ms/step - loss: 0.1791 - accuracy: 0.9305 - val_loss: 0.7745 - val_accuracy: 0.9178\n",
            "Epoch 99/100\n",
            "1022/1022 [==============================] - 4s 4ms/step - loss: 0.1664 - accuracy: 0.9315 - val_loss: 1.0040 - val_accuracy: 0.9132\n",
            "Epoch 100/100\n",
            "1022/1022 [==============================] - 4s 4ms/step - loss: 0.1664 - accuracy: 0.9266 - val_loss: 1.0009 - val_accuracy: 0.9087\n"
          ],
          "name": "stdout"
        }
      ]
    },
    {
      "cell_type": "code",
      "metadata": {
        "id": "Yx2y6d7CRlCO",
        "colab_type": "code",
        "colab": {
          "base_uri": "https://localhost:8080/",
          "height": 51
        },
        "outputId": "06bf5b52-c150-4a0d-9413-be997d78678f"
      },
      "source": [
        "model_3.evaluate(X_test, Y_test)[1]"
      ],
      "execution_count": 62,
      "outputs": [
        {
          "output_type": "stream",
          "text": [
            "219/219 [==============================] - 0s 573us/step\n"
          ],
          "name": "stdout"
        },
        {
          "output_type": "execute_result",
          "data": {
            "text/plain": [
              "0.8721461296081543"
            ]
          },
          "metadata": {
            "tags": []
          },
          "execution_count": 62
        }
      ]
    },
    {
      "cell_type": "code",
      "metadata": {
        "id": "N58LKUK_Txxa",
        "colab_type": "code",
        "colab": {
          "base_uri": "https://localhost:8080/",
          "height": 295
        },
        "outputId": "3f1aa968-7457-41c4-e5b3-8344a8b7f011"
      },
      "source": [
        "plt.plot(hist_3.history['loss'])\n",
        "plt.plot(hist_3.history['val_loss'])\n",
        "plt.title('Model loss')\n",
        "plt.ylabel('Loss')\n",
        "plt.xlabel('Epoch')\n",
        "plt.legend(['Train', 'Val'], loc='upper right')\n",
        "plt.show()"
      ],
      "execution_count": 63,
      "outputs": [
        {
          "output_type": "display_data",
          "data": {
            "image/png": "[encoded data removed]",
            "text/plain": [
              "<Figure size 432x288 with 1 Axes>"
            ]
          },
          "metadata": {
            "tags": [],
            "needs_background": "light"
          }
        }
      ]
    },
    {
      "cell_type": "code",
      "metadata": {
        "id": "l-hE9IVYT2-M",
        "colab_type": "code",
        "colab": {
          "base_uri": "https://localhost:8080/",
          "height": 295
        },
        "outputId": "bd3352af-da8c-4ded-cd98-3a68311ed635"
      },
      "source": [
        "plt.plot(hist_3.history['accuracy'])\n",
        "plt.plot(hist_3.history['val_accuracy'])\n",
        "plt.title('Model accuracy')\n",
        "plt.ylabel('Accuracy')\n",
        "plt.xlabel('Epoch')\n",
        "plt.legend(['Train', 'Val'], loc='lower right')\n",
        "plt.show()"
      ],
      "execution_count": 64,
      "outputs": [
        {
          "output_type": "display_data",
          "data": {
            "image/png": "[encoded data removed]",
            "text/plain": [
              "<Figure size 432x288 with 1 Axes>"
            ]
          },
          "metadata": {
            "tags": [],
            "needs_background": "light"
          }
        }
      ]
    },
    {
      "cell_type": "code",
      "metadata": {
        "id": "AyJ21e0NWBcM",
        "colab_type": "code",
        "colab": {}
      },
      "source": [
        "## To address the overfitting we see in Model 2, we'll incorporate L2 regularization and dropout in our third model here (Model 3)."
      ],
      "execution_count": 65,
      "outputs": []
    },
    {
      "cell_type": "code",
      "metadata": {
        "id": "IFawl3upWIpM",
        "colab_type": "code",
        "colab": {}
      },
      "source": [
        "\n",
        "from keras.layers import Dropout\n",
        "from keras import regularizers"
      ],
      "execution_count": 66,
      "outputs": []
    },
    {
      "cell_type": "code",
      "metadata": {
        "id": "vGD9AcLyWU8u",
        "colab_type": "code",
        "colab": {}
      },
      "source": [
        "model_4 = Sequential([\n",
        "    Dense(1000, activation='relu', kernel_regularizer=regularizers.l2(0.01), input_shape=(10,)),\n",
        "    Dropout(0.3),\n",
        "    Dense(1000, activation='relu', kernel_regularizer=regularizers.l2(0.01)),\n",
        "    Dropout(0.3),\n",
        "    Dense(1000, activation='relu', kernel_regularizer=regularizers.l2(0.01)),\n",
        "    Dropout(0.3),\n",
        "    Dense(1000, activation='relu', kernel_regularizer=regularizers.l2(0.01)),\n",
        "    Dropout(0.3),\n",
        "    Dense(1, activation='sigmoid', kernel_regularizer=regularizers.l2(0.01)),\n",
        "])"
      ],
      "execution_count": 67,
      "outputs": []
    },
    {
      "cell_type": "code",
      "metadata": {
        "id": "VVOCoCtIWpEh",
        "colab_type": "code",
        "colab": {
          "base_uri": "https://localhost:8080/",
          "height": 1000
        },
        "outputId": "9f27d977-c92e-438a-d896-e357493b4218"
      },
      "source": [
        "model_4.compile(optimizer='adam',\n",
        "              loss='binary_crossentropy',\n",
        "              metrics=['accuracy'])\n",
        "hist_4 = model_4.fit(X_train, Y_train,\n",
        "          batch_size=32, epochs=100,\n",
        "          validation_data=(X_val, Y_val))"
      ],
      "execution_count": 68,
      "outputs": [
        {
          "output_type": "stream",
          "text": [
            "Train on 1022 samples, validate on 219 samples\n",
            "Epoch 1/100\n",
            "1022/1022 [==============================] - 2s 2ms/step - loss: 14.2360 - accuracy: 0.6125 - val_loss: 3.8761 - val_accuracy: 0.7626\n",
            "Epoch 2/100\n",
            "1022/1022 [==============================] - 2s 2ms/step - loss: 1.6934 - accuracy: 0.8180 - val_loss: 0.6756 - val_accuracy: 0.8584\n",
            "Epoch 3/100\n",
            "1022/1022 [==============================] - 2s 2ms/step - loss: 0.5716 - accuracy: 0.8659 - val_loss: 0.4789 - val_accuracy: 0.8904\n",
            "Epoch 4/100\n",
            "1022/1022 [==============================] - 2s 2ms/step - loss: 0.5210 - accuracy: 0.8591 - val_loss: 0.4958 - val_accuracy: 0.8676\n",
            "Epoch 5/100\n",
            "1022/1022 [==============================] - 2s 2ms/step - loss: 0.5084 - accuracy: 0.8718 - val_loss: 0.4268 - val_accuracy: 0.9041\n",
            "Epoch 6/100\n",
            "1022/1022 [==============================] - 2s 2ms/step - loss: 0.4939 - accuracy: 0.8630 - val_loss: 0.4196 - val_accuracy: 0.8950\n",
            "Epoch 7/100\n",
            "1022/1022 [==============================] - 2s 2ms/step - loss: 0.4761 - accuracy: 0.8728 - val_loss: 0.4179 - val_accuracy: 0.8995\n",
            "Epoch 8/100\n",
            "1022/1022 [==============================] - 2s 2ms/step - loss: 0.4703 - accuracy: 0.8767 - val_loss: 0.4166 - val_accuracy: 0.8950\n",
            "Epoch 9/100\n",
            "1022/1022 [==============================] - 2s 2ms/step - loss: 0.4689 - accuracy: 0.8718 - val_loss: 0.6687 - val_accuracy: 0.7991\n",
            "Epoch 10/100\n",
            "1022/1022 [==============================] - 2s 2ms/step - loss: 0.5238 - accuracy: 0.8562 - val_loss: 0.4031 - val_accuracy: 0.9087\n",
            "Epoch 11/100\n",
            "1022/1022 [==============================] - 2s 2ms/step - loss: 0.4503 - accuracy: 0.8836 - val_loss: 0.3893 - val_accuracy: 0.9269\n",
            "Epoch 12/100\n",
            "1022/1022 [==============================] - 2s 2ms/step - loss: 0.4561 - accuracy: 0.8796 - val_loss: 0.4030 - val_accuracy: 0.8950\n",
            "Epoch 13/100\n",
            "1022/1022 [==============================] - 2s 2ms/step - loss: 0.4517 - accuracy: 0.8767 - val_loss: 0.4170 - val_accuracy: 0.8995\n",
            "Epoch 14/100\n",
            "1022/1022 [==============================] - 2s 2ms/step - loss: 0.4820 - accuracy: 0.8699 - val_loss: 0.4268 - val_accuracy: 0.8904\n",
            "Epoch 15/100\n",
            "1022/1022 [==============================] - 2s 2ms/step - loss: 0.4574 - accuracy: 0.8757 - val_loss: 0.4026 - val_accuracy: 0.9041\n",
            "Epoch 16/100\n",
            "1022/1022 [==============================] - 2s 2ms/step - loss: 0.4549 - accuracy: 0.8787 - val_loss: 0.3940 - val_accuracy: 0.8995\n",
            "Epoch 17/100\n",
            "1022/1022 [==============================] - 2s 2ms/step - loss: 0.4903 - accuracy: 0.8562 - val_loss: 0.6092 - val_accuracy: 0.8082\n",
            "Epoch 18/100\n",
            "1022/1022 [==============================] - 2s 2ms/step - loss: 0.4748 - accuracy: 0.8679 - val_loss: 0.3853 - val_accuracy: 0.9087\n",
            "Epoch 19/100\n",
            "1022/1022 [==============================] - 2s 2ms/step - loss: 0.4416 - accuracy: 0.8875 - val_loss: 0.3923 - val_accuracy: 0.8950\n",
            "Epoch 20/100\n",
            "1022/1022 [==============================] - 2s 2ms/step - loss: 0.4441 - accuracy: 0.8806 - val_loss: 0.3922 - val_accuracy: 0.9087\n",
            "Epoch 21/100\n",
            "1022/1022 [==============================] - 2s 2ms/step - loss: 0.4468 - accuracy: 0.8728 - val_loss: 0.4034 - val_accuracy: 0.8950\n",
            "Epoch 22/100\n",
            "1022/1022 [==============================] - 2s 2ms/step - loss: 0.4427 - accuracy: 0.8757 - val_loss: 0.3981 - val_accuracy: 0.8904\n",
            "Epoch 23/100\n",
            "1022/1022 [==============================] - 2s 2ms/step - loss: 0.4657 - accuracy: 0.8630 - val_loss: 0.4872 - val_accuracy: 0.8584\n",
            "Epoch 24/100\n",
            "1022/1022 [==============================] - 2s 2ms/step - loss: 0.4655 - accuracy: 0.8679 - val_loss: 0.4548 - val_accuracy: 0.8721\n",
            "Epoch 25/100\n",
            "1022/1022 [==============================] - 2s 2ms/step - loss: 0.4381 - accuracy: 0.8796 - val_loss: 0.3712 - val_accuracy: 0.9315\n",
            "Epoch 26/100\n",
            "1022/1022 [==============================] - 2s 2ms/step - loss: 0.4641 - accuracy: 0.8738 - val_loss: 0.4306 - val_accuracy: 0.8904\n",
            "Epoch 27/100\n",
            "1022/1022 [==============================] - 2s 2ms/step - loss: 0.4930 - accuracy: 0.8552 - val_loss: 0.4193 - val_accuracy: 0.8950\n",
            "Epoch 28/100\n",
            "1022/1022 [==============================] - 2s 2ms/step - loss: 0.4527 - accuracy: 0.8699 - val_loss: 0.4887 - val_accuracy: 0.8539\n",
            "Epoch 29/100\n",
            "1022/1022 [==============================] - 2s 2ms/step - loss: 0.4728 - accuracy: 0.8708 - val_loss: 0.4491 - val_accuracy: 0.8767\n",
            "Epoch 30/100\n",
            "1022/1022 [==============================] - 2s 2ms/step - loss: 0.4357 - accuracy: 0.8806 - val_loss: 0.3706 - val_accuracy: 0.9224\n",
            "Epoch 31/100\n",
            "1022/1022 [==============================] - 2s 2ms/step - loss: 0.4394 - accuracy: 0.8875 - val_loss: 0.3718 - val_accuracy: 0.9178\n",
            "Epoch 32/100\n",
            "1022/1022 [==============================] - 2s 2ms/step - loss: 0.4450 - accuracy: 0.8855 - val_loss: 0.3728 - val_accuracy: 0.9132\n",
            "Epoch 33/100\n",
            "1022/1022 [==============================] - 2s 2ms/step - loss: 0.4541 - accuracy: 0.8718 - val_loss: 0.3698 - val_accuracy: 0.9224\n",
            "Epoch 34/100\n",
            "1022/1022 [==============================] - 2s 2ms/step - loss: 0.4365 - accuracy: 0.8748 - val_loss: 0.4276 - val_accuracy: 0.8950\n",
            "Epoch 35/100\n",
            "1022/1022 [==============================] - 2s 2ms/step - loss: 0.4541 - accuracy: 0.8748 - val_loss: 0.3993 - val_accuracy: 0.8858\n",
            "Epoch 36/100\n",
            "1022/1022 [==============================] - 2s 2ms/step - loss: 0.4458 - accuracy: 0.8787 - val_loss: 0.3965 - val_accuracy: 0.8904\n",
            "Epoch 37/100\n",
            "1022/1022 [==============================] - 2s 2ms/step - loss: 0.4648 - accuracy: 0.8640 - val_loss: 0.4465 - val_accuracy: 0.8858\n",
            "Epoch 38/100\n",
            "1022/1022 [==============================] - 2s 2ms/step - loss: 0.4458 - accuracy: 0.8757 - val_loss: 0.3993 - val_accuracy: 0.8950\n",
            "Epoch 39/100\n",
            "1022/1022 [==============================] - 2s 2ms/step - loss: 0.4481 - accuracy: 0.8836 - val_loss: 0.3773 - val_accuracy: 0.9087\n",
            "Epoch 40/100\n",
            "1022/1022 [==============================] - 2s 2ms/step - loss: 0.4372 - accuracy: 0.8816 - val_loss: 0.3663 - val_accuracy: 0.9178\n",
            "Epoch 41/100\n",
            "1022/1022 [==============================] - 2s 2ms/step - loss: 0.4393 - accuracy: 0.8806 - val_loss: 0.3982 - val_accuracy: 0.8995\n",
            "Epoch 42/100\n",
            "1022/1022 [==============================] - 2s 2ms/step - loss: 0.4395 - accuracy: 0.8845 - val_loss: 0.4570 - val_accuracy: 0.8721\n",
            "Epoch 43/100\n",
            "1022/1022 [==============================] - 2s 2ms/step - loss: 0.4332 - accuracy: 0.8826 - val_loss: 0.3829 - val_accuracy: 0.8995\n",
            "Epoch 44/100\n",
            "1022/1022 [==============================] - 2s 2ms/step - loss: 0.4498 - accuracy: 0.8777 - val_loss: 0.4524 - val_accuracy: 0.8767\n",
            "Epoch 45/100\n",
            "1022/1022 [==============================] - 2s 2ms/step - loss: 0.4423 - accuracy: 0.8845 - val_loss: 0.3789 - val_accuracy: 0.9132\n",
            "Epoch 46/100\n",
            "1022/1022 [==============================] - 2s 2ms/step - loss: 0.4431 - accuracy: 0.8757 - val_loss: 0.3736 - val_accuracy: 0.9132\n",
            "Epoch 47/100\n",
            "1022/1022 [==============================] - 2s 2ms/step - loss: 0.4405 - accuracy: 0.8787 - val_loss: 0.4184 - val_accuracy: 0.8950\n",
            "Epoch 48/100\n",
            "1022/1022 [==============================] - 2s 2ms/step - loss: 0.4472 - accuracy: 0.8748 - val_loss: 0.3802 - val_accuracy: 0.8950\n",
            "Epoch 49/100\n",
            "1022/1022 [==============================] - 2s 2ms/step - loss: 0.4440 - accuracy: 0.8757 - val_loss: 0.4341 - val_accuracy: 0.8813\n",
            "Epoch 50/100\n",
            "1022/1022 [==============================] - 2s 2ms/step - loss: 0.4739 - accuracy: 0.8562 - val_loss: 0.4230 - val_accuracy: 0.8950\n",
            "Epoch 51/100\n",
            "1022/1022 [==============================] - 2s 2ms/step - loss: 0.4586 - accuracy: 0.8728 - val_loss: 0.3895 - val_accuracy: 0.8950\n",
            "Epoch 52/100\n",
            "1022/1022 [==============================] - 2s 2ms/step - loss: 0.4326 - accuracy: 0.8836 - val_loss: 0.3803 - val_accuracy: 0.8995\n",
            "Epoch 53/100\n",
            "1022/1022 [==============================] - 2s 2ms/step - loss: 0.4439 - accuracy: 0.8816 - val_loss: 0.4769 - val_accuracy: 0.8767\n",
            "Epoch 54/100\n",
            "1022/1022 [==============================] - 2s 2ms/step - loss: 0.4552 - accuracy: 0.8748 - val_loss: 0.3999 - val_accuracy: 0.8904\n",
            "Epoch 55/100\n",
            "1022/1022 [==============================] - 2s 2ms/step - loss: 0.4436 - accuracy: 0.8845 - val_loss: 0.4221 - val_accuracy: 0.8904\n",
            "Epoch 56/100\n",
            "1022/1022 [==============================] - 2s 2ms/step - loss: 0.4488 - accuracy: 0.8699 - val_loss: 0.4265 - val_accuracy: 0.8950\n",
            "Epoch 57/100\n",
            "1022/1022 [==============================] - 2s 2ms/step - loss: 0.4392 - accuracy: 0.8836 - val_loss: 0.4165 - val_accuracy: 0.8904\n",
            "Epoch 58/100\n",
            "1022/1022 [==============================] - 2s 2ms/step - loss: 0.4464 - accuracy: 0.8738 - val_loss: 0.3711 - val_accuracy: 0.9224\n",
            "Epoch 59/100\n",
            "1022/1022 [==============================] - 2s 2ms/step - loss: 0.4505 - accuracy: 0.8679 - val_loss: 0.3835 - val_accuracy: 0.9132\n",
            "Epoch 60/100\n",
            "1022/1022 [==============================] - 2s 2ms/step - loss: 0.4360 - accuracy: 0.8787 - val_loss: 0.3685 - val_accuracy: 0.9178\n",
            "Epoch 61/100\n",
            "1022/1022 [==============================] - 2s 2ms/step - loss: 0.4443 - accuracy: 0.8757 - val_loss: 0.3817 - val_accuracy: 0.9178\n",
            "Epoch 62/100\n",
            "1022/1022 [==============================] - 2s 2ms/step - loss: 0.4820 - accuracy: 0.8611 - val_loss: 0.3792 - val_accuracy: 0.9132\n",
            "Epoch 63/100\n",
            "1022/1022 [==============================] - 2s 2ms/step - loss: 0.4417 - accuracy: 0.8933 - val_loss: 0.3773 - val_accuracy: 0.9087\n",
            "Epoch 64/100\n",
            "1022/1022 [==============================] - 2s 2ms/step - loss: 0.4483 - accuracy: 0.8777 - val_loss: 0.3811 - val_accuracy: 0.9041\n",
            "Epoch 65/100\n",
            "1022/1022 [==============================] - 2s 2ms/step - loss: 0.4450 - accuracy: 0.8728 - val_loss: 0.3798 - val_accuracy: 0.9132\n",
            "Epoch 66/100\n",
            "1022/1022 [==============================] - 2s 2ms/step - loss: 0.4529 - accuracy: 0.8728 - val_loss: 0.3656 - val_accuracy: 0.9178\n",
            "Epoch 67/100\n",
            "1022/1022 [==============================] - 2s 2ms/step - loss: 0.4507 - accuracy: 0.8699 - val_loss: 0.4468 - val_accuracy: 0.8676\n",
            "Epoch 68/100\n",
            "1022/1022 [==============================] - 2s 2ms/step - loss: 0.4320 - accuracy: 0.8816 - val_loss: 0.3626 - val_accuracy: 0.9224\n",
            "Epoch 69/100\n",
            "1022/1022 [==============================] - 2s 2ms/step - loss: 0.4412 - accuracy: 0.8767 - val_loss: 0.4124 - val_accuracy: 0.8950\n",
            "Epoch 70/100\n",
            "1022/1022 [==============================] - 2s 2ms/step - loss: 0.4355 - accuracy: 0.8826 - val_loss: 0.3779 - val_accuracy: 0.9132\n",
            "Epoch 71/100\n",
            "1022/1022 [==============================] - 2s 2ms/step - loss: 0.4348 - accuracy: 0.8875 - val_loss: 0.4013 - val_accuracy: 0.8950\n",
            "Epoch 72/100\n",
            "1022/1022 [==============================] - 2s 2ms/step - loss: 0.4741 - accuracy: 0.8611 - val_loss: 0.3753 - val_accuracy: 0.9132\n",
            "Epoch 73/100\n",
            "1022/1022 [==============================] - 2s 2ms/step - loss: 0.4419 - accuracy: 0.8718 - val_loss: 0.4525 - val_accuracy: 0.8676\n",
            "Epoch 74/100\n",
            "1022/1022 [==============================] - 2s 2ms/step - loss: 0.4493 - accuracy: 0.8748 - val_loss: 0.3665 - val_accuracy: 0.9224\n",
            "Epoch 75/100\n",
            "1022/1022 [==============================] - 2s 2ms/step - loss: 0.4414 - accuracy: 0.8826 - val_loss: 0.4575 - val_accuracy: 0.8676\n",
            "Epoch 76/100\n",
            "1022/1022 [==============================] - 2s 2ms/step - loss: 0.4462 - accuracy: 0.8777 - val_loss: 0.4072 - val_accuracy: 0.8950\n",
            "Epoch 77/100\n",
            "1022/1022 [==============================] - 2s 2ms/step - loss: 0.4412 - accuracy: 0.8738 - val_loss: 0.3813 - val_accuracy: 0.8995\n",
            "Epoch 78/100\n",
            "1022/1022 [==============================] - 2s 2ms/step - loss: 0.4367 - accuracy: 0.8728 - val_loss: 0.3759 - val_accuracy: 0.9041\n",
            "Epoch 79/100\n",
            "1022/1022 [==============================] - 2s 2ms/step - loss: 0.4408 - accuracy: 0.8855 - val_loss: 0.3844 - val_accuracy: 0.8995\n",
            "Epoch 80/100\n",
            "1022/1022 [==============================] - 2s 2ms/step - loss: 0.4265 - accuracy: 0.8865 - val_loss: 0.3828 - val_accuracy: 0.8995\n",
            "Epoch 81/100\n",
            "1022/1022 [==============================] - 2s 2ms/step - loss: 0.4422 - accuracy: 0.8796 - val_loss: 0.3698 - val_accuracy: 0.9224\n",
            "Epoch 82/100\n",
            "1022/1022 [==============================] - 2s 2ms/step - loss: 0.4371 - accuracy: 0.8826 - val_loss: 0.3894 - val_accuracy: 0.8950\n",
            "Epoch 83/100\n",
            "1022/1022 [==============================] - 2s 2ms/step - loss: 0.4356 - accuracy: 0.8777 - val_loss: 0.3704 - val_accuracy: 0.9132\n",
            "Epoch 84/100\n",
            "1022/1022 [==============================] - 2s 2ms/step - loss: 0.4953 - accuracy: 0.8464 - val_loss: 0.4690 - val_accuracy: 0.8630\n",
            "Epoch 85/100\n",
            "1022/1022 [==============================] - 2s 2ms/step - loss: 0.4447 - accuracy: 0.8845 - val_loss: 0.3746 - val_accuracy: 0.9087\n",
            "Epoch 86/100\n",
            "1022/1022 [==============================] - 2s 2ms/step - loss: 0.4307 - accuracy: 0.8845 - val_loss: 0.3868 - val_accuracy: 0.8950\n",
            "Epoch 87/100\n",
            "1022/1022 [==============================] - 2s 2ms/step - loss: 0.4343 - accuracy: 0.8885 - val_loss: 0.3908 - val_accuracy: 0.8904\n",
            "Epoch 88/100\n",
            "1022/1022 [==============================] - 2s 2ms/step - loss: 0.4516 - accuracy: 0.8738 - val_loss: 0.4352 - val_accuracy: 0.8858\n",
            "Epoch 89/100\n",
            "1022/1022 [==============================] - 2s 2ms/step - loss: 0.4300 - accuracy: 0.8738 - val_loss: 0.4230 - val_accuracy: 0.8858\n",
            "Epoch 90/100\n",
            "1022/1022 [==============================] - 2s 2ms/step - loss: 0.4463 - accuracy: 0.8728 - val_loss: 0.3774 - val_accuracy: 0.9178\n",
            "Epoch 91/100\n",
            "1022/1022 [==============================] - 2s 2ms/step - loss: 0.4500 - accuracy: 0.8728 - val_loss: 0.3691 - val_accuracy: 0.9178\n",
            "Epoch 92/100\n",
            "1022/1022 [==============================] - 2s 2ms/step - loss: 0.4396 - accuracy: 0.8845 - val_loss: 0.3753 - val_accuracy: 0.9087\n",
            "Epoch 93/100\n",
            "1022/1022 [==============================] - 2s 2ms/step - loss: 0.4379 - accuracy: 0.8796 - val_loss: 0.3749 - val_accuracy: 0.8995\n",
            "Epoch 94/100\n",
            "1022/1022 [==============================] - 2s 2ms/step - loss: 0.4598 - accuracy: 0.8659 - val_loss: 0.3729 - val_accuracy: 0.9041\n",
            "Epoch 95/100\n",
            "1022/1022 [==============================] - 2s 2ms/step - loss: 0.4402 - accuracy: 0.8777 - val_loss: 0.3885 - val_accuracy: 0.8950\n",
            "Epoch 96/100\n",
            "1022/1022 [==============================] - 2s 2ms/step - loss: 0.4294 - accuracy: 0.8708 - val_loss: 0.3870 - val_accuracy: 0.8950\n",
            "Epoch 97/100\n",
            "1022/1022 [==============================] - 2s 2ms/step - loss: 0.4402 - accuracy: 0.8787 - val_loss: 0.3898 - val_accuracy: 0.8950\n",
            "Epoch 98/100\n",
            "1022/1022 [==============================] - 2s 2ms/step - loss: 0.4496 - accuracy: 0.8748 - val_loss: 0.3659 - val_accuracy: 0.9224\n",
            "Epoch 99/100\n",
            "1022/1022 [==============================] - 2s 2ms/step - loss: 0.4372 - accuracy: 0.8875 - val_loss: 0.3827 - val_accuracy: 0.8995\n",
            "Epoch 100/100\n",
            "1022/1022 [==============================] - 2s 2ms/step - loss: 0.4497 - accuracy: 0.8728 - val_loss: 0.3843 - val_accuracy: 0.9041\n"
          ],
          "name": "stdout"
        }
      ]
    },
    {
      "cell_type": "code",
      "metadata": {
        "id": "2Y7DHt8NWuAn",
        "colab_type": "code",
        "colab": {
          "base_uri": "https://localhost:8080/",
          "height": 295
        },
        "outputId": "454f0314-0708-4a33-c7c8-089c7a9eeaf8"
      },
      "source": [
        "plt.plot(hist_4.history['loss'])\n",
        "plt.plot(hist_4.history['val_loss'])\n",
        "plt.title('Model loss')\n",
        "plt.ylabel('Loss')\n",
        "plt.xlabel('Epoch')\n",
        "plt.legend(['Train', 'Val'], loc='upper right')\n",
        "plt.ylim(top=1.2, bottom=0)\n",
        "plt.show()"
      ],
      "execution_count": 69,
      "outputs": [
        {
          "output_type": "display_data",
          "data": {
            "image/png": "[encoded data removed]",
            "text/plain": [
              "<Figure size 432x288 with 1 Axes>"
            ]
          },
          "metadata": {
            "tags": [],
            "needs_background": "light"
          }
        }
      ]
    },
    {
      "cell_type": "code",
      "metadata": {
        "id": "h4Aa0gC7XsMW",
        "colab_type": "code",
        "colab": {
          "base_uri": "https://localhost:8080/",
          "height": 295
        },
        "outputId": "9464b727-f272-44fe-8adf-b0007ff68ad8"
      },
      "source": [
        "plt.plot(hist_4.history['accuracy'])\n",
        "plt.plot(hist_4.history['val_accuracy'])\n",
        "plt.title('Model accuracy')\n",
        "plt.ylabel('Accuracy')\n",
        "plt.xlabel('Epoch')\n",
        "plt.legend(['Train', 'Val'], loc='lower right')\n",
        "plt.show()"
      ],
      "execution_count": 70,
      "outputs": [
        {
          "output_type": "display_data",
          "data": {
            "image/png": "[encoded data removed]",
            "text/plain": [
              "<Figure size 432x288 with 1 Axes>"
            ]
          },
          "metadata": {
            "tags": [],
            "needs_background": "light"
          }
        }
      ]
    },
    {
      "cell_type": "code",
      "metadata": {
        "id": "FV3PKClPX0bt",
        "colab_type": "code",
        "colab": {}
      },
      "source": [
        "## We can see that after introducing Regularization we have less Overfitting in Model 4 as Compared to Model2 and Model3."
      ],
      "execution_count": 71,
      "outputs": []
    },
    {
      "cell_type": "code",
      "metadata": {
        "id": "deBCl8mgYCOf",
        "colab_type": "code",
        "colab": {}
      },
      "source": [
        ""
      ],
      "execution_count": null,
      "outputs": []
    }
  ]
}